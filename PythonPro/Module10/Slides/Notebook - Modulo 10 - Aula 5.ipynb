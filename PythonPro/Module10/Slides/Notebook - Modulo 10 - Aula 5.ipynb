{
 "cells": [
  {
   "cell_type": "markdown",
   "id": "22ac5dec",
   "metadata": {},
   "source": [
    "### Utilizamos o \n",
    "```if __name__ == \"__main__\":``` \n",
    "### no final de alguns arquivos quando o arquivo pode ser utilizado tanto como biblioteca como arquivo principal"
   ]
  },
  {
   "cell_type": "markdown",
   "id": "4ad4d0c3",
   "metadata": {},
   "source": [
    "### O args e o kwargs servem para receber parâmetros quando não se está certo de quais serão eles"
   ]
  },
  {
   "cell_type": "code",
   "execution_count": 6,
   "id": "e3df9fcd",
   "metadata": {},
   "outputs": [
    {
     "name": "stdout",
     "output_type": "stream",
     "text": [
      "('parâmetro1', 2, 3.0, None)\n"
     ]
    }
   ],
   "source": [
    "def teste_args(*args):\n",
    "    print(args)\n",
    "    \n",
    "teste_args(\"parâmetro1\", 2, 3.0, None)"
   ]
  },
  {
   "cell_type": "code",
   "execution_count": 4,
   "id": "0c9aa870",
   "metadata": {},
   "outputs": [
    {
     "name": "stdout",
     "output_type": "stream",
     "text": [
      "{'p1': 'parâmetro1', 'p2': 2, 'p3': 3.0, 'p4': None}\n"
     ]
    }
   ],
   "source": [
    "def teste_kwargs(**kwargs):\n",
    "    print(kwargs)\n",
    "    \n",
    "teste_kwargs(p1 = \"parâmetro1\", p2 = 2, p3 = 3.0, p4 = None)"
   ]
  },
  {
   "cell_type": "markdown",
   "id": "0ddcae6a",
   "metadata": {},
   "source": [
    "### O asterisco nos permite passar os elementos de um array separadamente"
   ]
  },
  {
   "cell_type": "code",
   "execution_count": 13,
   "id": "f6bd62e8",
   "metadata": {},
   "outputs": [
    {
     "name": "stdout",
     "output_type": "stream",
     "text": [
      "parâmetro1 2 3.0 None\n"
     ]
    }
   ],
   "source": [
    "def teste_sem_args(p1, p2, p3, p4):\n",
    "    print(p1, p2, p3, p4)\n",
    "    \n",
    "p_list = [\"parâmetro1\", 2, 3.0, None]\n",
    "teste_sem_args(*p_list)"
   ]
  },
  {
   "cell_type": "markdown",
   "id": "ca3848ee",
   "metadata": {},
   "source": [
    "### Transposição de matrizes sem importar bibliotecas"
   ]
  },
  {
   "cell_type": "code",
   "execution_count": 15,
   "id": "0e3499c5",
   "metadata": {},
   "outputs": [
    {
     "data": {
      "text/plain": [
       "[(1, 3), (2, 4)]"
      ]
     },
     "execution_count": 15,
     "metadata": {},
     "output_type": "execute_result"
    }
   ],
   "source": [
    "matriz = [[1, 2], [3, 4]]\n",
    "\n",
    "list(zip(*matriz))"
   ]
  },
  {
   "cell_type": "markdown",
   "id": "2a079d72",
   "metadata": {},
   "source": [
    "### Objeto built-in all e any"
   ]
  },
  {
   "cell_type": "code",
   "execution_count": 17,
   "id": "5e7a3a5a",
   "metadata": {},
   "outputs": [
    {
     "data": {
      "text/plain": [
       "True"
      ]
     },
     "execution_count": 17,
     "metadata": {},
     "output_type": "execute_result"
    }
   ],
   "source": [
    "any([False, False, True])"
   ]
  },
  {
   "cell_type": "code",
   "execution_count": 18,
   "id": "b763e72d",
   "metadata": {},
   "outputs": [
    {
     "data": {
      "text/plain": [
       "False"
      ]
     },
     "execution_count": 18,
     "metadata": {},
     "output_type": "execute_result"
    }
   ],
   "source": [
    "all([False, False, True])"
   ]
  },
  {
   "cell_type": "markdown",
   "id": "a6531dea",
   "metadata": {},
   "source": [
    "### O loop for possui uma cláusula else"
   ]
  },
  {
   "cell_type": "code",
   "execution_count": 19,
   "id": "3c41a774",
   "metadata": {},
   "outputs": [
    {
     "name": "stdout",
     "output_type": "stream",
     "text": [
      "0\n",
      "1\n",
      "2\n",
      "3\n",
      "4\n",
      "5\n",
      "6\n",
      "7\n",
      "8\n",
      "9\n",
      "fim\n"
     ]
    }
   ],
   "source": [
    "for x in range(10):\n",
    "    print(x)\n",
    "else:\n",
    "    print(\"fim\")"
   ]
  },
  {
   "cell_type": "markdown",
   "id": "9b01cab9",
   "metadata": {},
   "source": [
    "### Dicionário Python que retorna um valor quando a chave não é encontrada"
   ]
  },
  {
   "cell_type": "code",
   "execution_count": 23,
   "id": "780b3d43",
   "metadata": {},
   "outputs": [
    {
     "data": {
      "text/plain": [
       "'Esta chave não existe'"
      ]
     },
     "execution_count": 23,
     "metadata": {},
     "output_type": "execute_result"
    }
   ],
   "source": [
    "from collections import defaultdict\n",
    "\n",
    "novo_dict = defaultdict(lambda : \"Esta chave não existe\")\n",
    "novo_dict[1]"
   ]
  },
  {
   "cell_type": "code",
   "execution_count": null,
   "id": "3f13d063",
   "metadata": {},
   "outputs": [],
   "source": []
  }
 ],
 "metadata": {
  "kernelspec": {
   "display_name": "Python 3",
   "language": "python",
   "name": "python3"
  },
  "language_info": {
   "codemirror_mode": {
    "name": "ipython",
    "version": 3
   },
   "file_extension": ".py",
   "mimetype": "text/x-python",
   "name": "python",
   "nbconvert_exporter": "python",
   "pygments_lexer": "ipython3",
   "version": "3.7.10"
  }
 },
 "nbformat": 4,
 "nbformat_minor": 5
}
