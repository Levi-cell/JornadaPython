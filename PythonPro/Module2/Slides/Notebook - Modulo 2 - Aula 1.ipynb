{
 "cells": [
  {
   "cell_type": "markdown",
   "id": "d7b7d2eb",
   "metadata": {},
   "source": [
    "### Estrutura do loop for comum"
   ]
  },
  {
   "cell_type": "code",
   "execution_count": 1,
   "id": "6008989f",
   "metadata": {},
   "outputs": [
    {
     "data": {
      "text/plain": [
       "[1, 2, 3, 4, 5, 6, 7, 8, 9, 10]"
      ]
     },
     "execution_count": 1,
     "metadata": {},
     "output_type": "execute_result"
    }
   ],
   "source": [
    "contagem = []\n",
    "\n",
    "for t in range(1, 11):\n",
    "    contagem.append(t)\n",
    "    \n",
    "contagem"
   ]
  },
  {
   "cell_type": "markdown",
   "id": "ec88b694",
   "metadata": {},
   "source": [
    "### Estrutura do loop for do list comprehension"
   ]
  },
  {
   "cell_type": "code",
   "execution_count": 4,
   "id": "a2effb67",
   "metadata": {},
   "outputs": [
    {
     "data": {
      "text/plain": [
       "[1, 2, 3, 4, 5, 6, 7, 8, 9, 10, 11]"
      ]
     },
     "execution_count": 4,
     "metadata": {},
     "output_type": "execute_result"
    }
   ],
   "source": [
    "[n for n in range(1, 11)]"
   ]
  },
  {
   "cell_type": "code",
   "execution_count": 5,
   "id": "2252a00c",
   "metadata": {},
   "outputs": [
    {
     "data": {
      "text/plain": [
       "[2, 4, 6, 8, 10]"
      ]
     },
     "execution_count": 5,
     "metadata": {},
     "output_type": "execute_result"
    }
   ],
   "source": [
    "contagem = [n for n in range(1, 11) if n % 2 == 0]\n",
    "\n",
    "contagem"
   ]
  },
  {
   "cell_type": "markdown",
   "id": "bd54efc3",
   "metadata": {},
   "source": [
    "### Estrutura do dict comprehension"
   ]
  },
  {
   "cell_type": "code",
   "execution_count": 7,
   "id": "8e642c6a",
   "metadata": {},
   "outputs": [
    {
     "data": {
      "text/plain": [
       "{1: 'a',\n",
       " 2: 'b',\n",
       " 3: 'c',\n",
       " 4: 'd',\n",
       " 5: 'e',\n",
       " 6: 'f',\n",
       " 7: 'g',\n",
       " 8: 'h',\n",
       " 9: 'i',\n",
       " 10: 'j',\n",
       " 11: 'l',\n",
       " 12: 'm',\n",
       " 13: 'n',\n",
       " 14: 'o',\n",
       " 15: 'p',\n",
       " 16: 'q',\n",
       " 17: 'r',\n",
       " 18: 's',\n",
       " 19: 't',\n",
       " 20: 'u',\n",
       " 21: 'v',\n",
       " 22: 'x',\n",
       " 23: 'z'}"
      ]
     },
     "execution_count": 7,
     "metadata": {},
     "output_type": "execute_result"
    }
   ],
   "source": [
    "letras = { k + 1 : v for k, v in enumerate(\"abcdefghijlmnopqrstuvxz\") }\n",
    "\n",
    "letras"
   ]
  },
  {
   "cell_type": "code",
   "execution_count": 8,
   "id": "6e95593d",
   "metadata": {},
   "outputs": [
    {
     "data": {
      "text/plain": [
       "{1: 'b',\n",
       " 2: 'c',\n",
       " 3: 'd',\n",
       " 5: 'f',\n",
       " 6: 'g',\n",
       " 7: 'h',\n",
       " 9: 'j',\n",
       " 10: 'l',\n",
       " 11: 'm',\n",
       " 12: 'n',\n",
       " 14: 'p',\n",
       " 15: 'q',\n",
       " 16: 'r',\n",
       " 17: 's',\n",
       " 18: 't',\n",
       " 20: 'v',\n",
       " 21: 'x',\n",
       " 22: 'z'}"
      ]
     },
     "execution_count": 8,
     "metadata": {},
     "output_type": "execute_result"
    }
   ],
   "source": [
    "letras = { k : v for k, v in enumerate(\"abcdefghijlmnopqrstuvxz\") if v not in (\"a\", \"e\", \"i\", \"o\", \"u\")}\n",
    "\n",
    "letras"
   ]
  }
 ],
 "metadata": {
  "kernelspec": {
   "display_name": "Python 3",
   "language": "python",
   "name": "python3"
  },
  "language_info": {
   "codemirror_mode": {
    "name": "ipython",
    "version": 3
   },
   "file_extension": ".py",
   "mimetype": "text/x-python",
   "name": "python",
   "nbconvert_exporter": "python",
   "pygments_lexer": "ipython3",
   "version": "3.8.5"
  }
 },
 "nbformat": 4,
 "nbformat_minor": 5
}
