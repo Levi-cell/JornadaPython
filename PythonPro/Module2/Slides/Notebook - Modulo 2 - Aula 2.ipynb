{
 "cells": [
  {
   "cell_type": "markdown",
   "id": "cd234b41",
   "metadata": {},
   "source": [
    "### Inicialização de objetos em Python"
   ]
  },
  {
   "cell_type": "code",
   "execution_count": 1,
   "id": "ba918ece",
   "metadata": {},
   "outputs": [],
   "source": [
    "from json import load"
   ]
  },
  {
   "cell_type": "code",
   "execution_count": 2,
   "id": "2efda015",
   "metadata": {},
   "outputs": [],
   "source": [
    "class sistema:\n",
    "    def __init__(self, login, senha):\n",
    "        self.login = login\n",
    "        self.senha = senha\n",
    "        \n",
    "    def verificacao(self):\n",
    "        assert self.login == \"admin\"\n",
    "        assert self.senha == \"senha\"\n",
    "        \n",
    "        return True\n",
    "    \n",
    "    def retorna_login(self):\n",
    "        return self.login"
   ]
  },
  {
   "cell_type": "code",
   "execution_count": 5,
   "id": "640bf0a9",
   "metadata": {},
   "outputs": [],
   "source": [
    "sis = sistema(\"admin\", \"senhaerrada\")"
   ]
  },
  {
   "cell_type": "code",
   "execution_count": 6,
   "id": "34206248",
   "metadata": {},
   "outputs": [
    {
     "ename": "AssertionError",
     "evalue": "",
     "output_type": "error",
     "traceback": [
      "\u001b[0;31m---------------------------------------------------------------------------\u001b[0m",
      "\u001b[0;31mAssertionError\u001b[0m                            Traceback (most recent call last)",
      "\u001b[0;32m<ipython-input-6-b5f4bbf0809e>\u001b[0m in \u001b[0;36m<module>\u001b[0;34m\u001b[0m\n\u001b[0;32m----> 1\u001b[0;31m \u001b[0msis\u001b[0m\u001b[0;34m.\u001b[0m\u001b[0mverificacao\u001b[0m\u001b[0;34m(\u001b[0m\u001b[0;34m)\u001b[0m\u001b[0;34m\u001b[0m\u001b[0;34m\u001b[0m\u001b[0m\n\u001b[0m",
      "\u001b[0;32m<ipython-input-2-adbc903424c0>\u001b[0m in \u001b[0;36mverificacao\u001b[0;34m(self)\u001b[0m\n\u001b[1;32m      6\u001b[0m     \u001b[0;32mdef\u001b[0m \u001b[0mverificacao\u001b[0m\u001b[0;34m(\u001b[0m\u001b[0mself\u001b[0m\u001b[0;34m)\u001b[0m\u001b[0;34m:\u001b[0m\u001b[0;34m\u001b[0m\u001b[0;34m\u001b[0m\u001b[0m\n\u001b[1;32m      7\u001b[0m         \u001b[0;32massert\u001b[0m \u001b[0mself\u001b[0m\u001b[0;34m.\u001b[0m\u001b[0mlogin\u001b[0m \u001b[0;34m==\u001b[0m \u001b[0;34m\"admin\"\u001b[0m\u001b[0;34m\u001b[0m\u001b[0;34m\u001b[0m\u001b[0m\n\u001b[0;32m----> 8\u001b[0;31m         \u001b[0;32massert\u001b[0m \u001b[0mself\u001b[0m\u001b[0;34m.\u001b[0m\u001b[0msenha\u001b[0m \u001b[0;34m==\u001b[0m \u001b[0;34m\"senha\"\u001b[0m\u001b[0;34m\u001b[0m\u001b[0;34m\u001b[0m\u001b[0m\n\u001b[0m\u001b[1;32m      9\u001b[0m \u001b[0;34m\u001b[0m\u001b[0m\n\u001b[1;32m     10\u001b[0m         \u001b[0;32mreturn\u001b[0m \u001b[0;32mTrue\u001b[0m\u001b[0;34m\u001b[0m\u001b[0;34m\u001b[0m\u001b[0m\n",
      "\u001b[0;31mAssertionError\u001b[0m: "
     ]
    }
   ],
   "source": [
    "sis.verificacao()"
   ]
  },
  {
   "cell_type": "code",
   "execution_count": null,
   "id": "9968ef6f",
   "metadata": {},
   "outputs": [],
   "source": [
    "sis.retorna_login()"
   ]
  }
 ],
 "metadata": {
  "kernelspec": {
   "display_name": "Python 3",
   "language": "python",
   "name": "python3"
  },
  "language_info": {
   "codemirror_mode": {
    "name": "ipython",
    "version": 3
   },
   "file_extension": ".py",
   "mimetype": "text/x-python",
   "name": "python",
   "nbconvert_exporter": "python",
   "pygments_lexer": "ipython3",
   "version": "3.8.5"
  }
 },
 "nbformat": 4,
 "nbformat_minor": 5
}
