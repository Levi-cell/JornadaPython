{
  "cells": [
    {
      "cell_type": "markdown",
      "id": "0cee755b",
      "metadata": {
        "id": "0cee755b"
      },
      "source": [
        "### Criando um Iterator em Python"
      ]
    },
    {
      "cell_type": "code",
      "execution_count": 11,
      "id": "7bbf6954",
      "metadata": {
        "id": "7bbf6954"
      },
      "outputs": [],
      "source": [
        "class contador:\n",
        "    def __iter__(self):\n",
        "        self.var = 0\n",
        "        \n",
        "        return self\n",
        "        \n",
        "    def __next__(self):\n",
        "        self.var += 1\n",
        "        \n",
        "        if self.var > 10:\n",
        "            raise StopIteration\n",
        "        \n",
        "        return self.var"
      ]
    },
    {
      "cell_type": "code",
      "execution_count": 12,
      "id": "3019ed08",
      "metadata": {
        "id": "3019ed08"
      },
      "outputs": [],
      "source": [
        "cont = contador()\n",
        "gerar_numeros = iter(cont)"
      ]
    },
    {
      "cell_type": "code",
      "execution_count": 13,
      "id": "d4fbdea1",
      "metadata": {
        "colab": {
          "base_uri": "https://localhost:8080/"
        },
        "id": "d4fbdea1",
        "outputId": "71ecc778-c552-48f7-be90-cfc92be50df2"
      },
      "outputs": [
        {
          "output_type": "execute_result",
          "data": {
            "text/plain": [
              "1"
            ]
          },
          "metadata": {},
          "execution_count": 13
        }
      ],
      "source": [
        "next(cont)"
      ]
    },
    {
      "cell_type": "code",
      "execution_count": 14,
      "id": "4f0db28f",
      "metadata": {
        "colab": {
          "base_uri": "https://localhost:8080/"
        },
        "id": "4f0db28f",
        "outputId": "75bce510-48e0-4b84-c6b2-489aa145a423"
      },
      "outputs": [
        {
          "output_type": "stream",
          "name": "stdout",
          "text": [
            "1\n",
            "2\n",
            "3\n",
            "4\n",
            "5\n",
            "6\n",
            "7\n",
            "8\n",
            "9\n",
            "10\n"
          ]
        }
      ],
      "source": [
        "for c in gerar_numeros:\n",
        "    print(c)"
      ]
    },
    {
      "cell_type": "code",
      "execution_count": 14,
      "id": "277e2e1b",
      "metadata": {
        "id": "277e2e1b"
      },
      "outputs": [],
      "source": []
    },
    {
      "cell_type": "code",
      "execution_count": 14,
      "id": "3f423dfb",
      "metadata": {
        "id": "3f423dfb"
      },
      "outputs": [],
      "source": []
    }
  ],
  "metadata": {
    "kernelspec": {
      "display_name": "Python 3",
      "language": "python",
      "name": "python3"
    },
    "language_info": {
      "codemirror_mode": {
        "name": "ipython",
        "version": 3
      },
      "file_extension": ".py",
      "mimetype": "text/x-python",
      "name": "python",
      "nbconvert_exporter": "python",
      "pygments_lexer": "ipython3",
      "version": "3.8.5"
    },
    "colab": {
      "provenance": []
    }
  },
  "nbformat": 4,
  "nbformat_minor": 5
}