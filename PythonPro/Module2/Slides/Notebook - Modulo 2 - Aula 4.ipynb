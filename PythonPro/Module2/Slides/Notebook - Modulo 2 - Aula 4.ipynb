{
 "cells": [
  {
   "cell_type": "markdown",
   "id": "babf20d3",
   "metadata": {},
   "source": [
    "### Funções anônimas"
   ]
  },
  {
   "cell_type": "code",
   "execution_count": 1,
   "id": "2cdf1772",
   "metadata": {},
   "outputs": [],
   "source": [
    "anonima = lambda a, b, c : a + b + c"
   ]
  },
  {
   "cell_type": "code",
   "execution_count": 2,
   "id": "8a339b56",
   "metadata": {},
   "outputs": [
    {
     "data": {
      "text/plain": [
       "10"
      ]
     },
     "execution_count": 2,
     "metadata": {},
     "output_type": "execute_result"
    }
   ],
   "source": [
    "anonima(2,5,3)"
   ]
  },
  {
   "cell_type": "code",
   "execution_count": 3,
   "id": "51536ee6",
   "metadata": {},
   "outputs": [],
   "source": [
    "anonima2 = lambda a, b : a + b if a > b else a - b"
   ]
  },
  {
   "cell_type": "code",
   "execution_count": 5,
   "id": "1ed2201e",
   "metadata": {},
   "outputs": [
    {
     "data": {
      "text/plain": [
       "-1"
      ]
     },
     "execution_count": 5,
     "metadata": {},
     "output_type": "execute_result"
    }
   ],
   "source": [
    "anonima2(1, 2)"
   ]
  }
 ],
 "metadata": {
  "kernelspec": {
   "display_name": "Python 3",
   "language": "python",
   "name": "python3"
  },
  "language_info": {
   "codemirror_mode": {
    "name": "ipython",
    "version": 3
   },
   "file_extension": ".py",
   "mimetype": "text/x-python",
   "name": "python",
   "nbconvert_exporter": "python",
   "pygments_lexer": "ipython3",
   "version": "3.8.5"
  }
 },
 "nbformat": 4,
 "nbformat_minor": 5
}
