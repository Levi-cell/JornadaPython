{
 "cells": [
  {
   "cell_type": "markdown",
   "id": "589524fe",
   "metadata": {},
   "source": [
    "### A biblioteca requests não é uma biblioteca built-in do Python, por isso precisamos baixá-la"
   ]
  },
  {
   "cell_type": "code",
   "execution_count": null,
   "id": "3cd12c01",
   "metadata": {},
   "outputs": [],
   "source": [
    "!pip3.7 install requests"
   ]
  },
  {
   "cell_type": "markdown",
   "id": "978f1938",
   "metadata": {},
   "source": [
    "### Seguindo as boas práticas, vamos importar apenas a função que utilizaremos"
   ]
  },
  {
   "cell_type": "code",
   "execution_count": null,
   "id": "24491edd",
   "metadata": {},
   "outputs": [],
   "source": [
    "from requests import get, post"
   ]
  },
  {
   "cell_type": "markdown",
   "id": "2891b878",
   "metadata": {},
   "source": [
    "### Faremos uma requisição simples utilizando o método Get"
   ]
  },
  {
   "cell_type": "code",
   "execution_count": null,
   "id": "445071e5",
   "metadata": {},
   "outputs": [],
   "source": [
    "resposta = get(\"https://pt.wikepedia.org/wiki/Hypertext_Transfer_Protocol\")"
   ]
  },
  {
   "cell_type": "code",
   "execution_count": null,
   "id": "3fbc9872",
   "metadata": {},
   "outputs": [],
   "source": [
    "resposta"
   ]
  },
  {
   "cell_type": "markdown",
   "id": "783da2c9",
   "metadata": {},
   "source": [
    "### Vamos verificar o que foi devolvido pela função"
   ]
  },
  {
   "cell_type": "code",
   "execution_count": null,
   "id": "b1de5c21",
   "metadata": {},
   "outputs": [],
   "source": [
    "# Um objeto do tipo Response\n",
    "\n",
    "help(resposta)"
   ]
  },
  {
   "cell_type": "code",
   "execution_count": null,
   "id": "515550a7",
   "metadata": {},
   "outputs": [],
   "source": [
    "# Os atributos ok e text são muito interessantes\n",
    "\n",
    "resposta.text"
   ]
  }
 ],
 "metadata": {
  "kernelspec": {
   "display_name": "Python 3",
   "language": "python",
   "name": "python3"
  },
  "language_info": {
   "codemirror_mode": {
    "name": "ipython",
    "version": 3
   },
   "file_extension": ".py",
   "mimetype": "text/x-python",
   "name": "python",
   "nbconvert_exporter": "python",
   "pygments_lexer": "ipython3",
   "version": "3.7.10"
  }
 },
 "nbformat": 4,
 "nbformat_minor": 5
}
