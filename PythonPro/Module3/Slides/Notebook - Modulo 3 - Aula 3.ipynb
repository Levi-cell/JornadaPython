{
 "cells": [
  {
   "cell_type": "markdown",
   "id": "53eefaf9",
   "metadata": {},
   "source": [
    "### Primeiramente, vamos fazer a respagem do código de um site para termos um conteúdo para trabalhar"
   ]
  },
  {
   "cell_type": "code",
   "execution_count": null,
   "id": "138514fc",
   "metadata": {},
   "outputs": [],
   "source": [
    "from requests import get\n",
    "resposta = get(\"https://www.python.org/jobs/\")"
   ]
  },
  {
   "cell_type": "markdown",
   "id": "19b686c4",
   "metadata": {},
   "source": [
    "### Para conseguir \"navegar\" pelo código HTML utilizaremos a biblioteca BeautifulSoup"
   ]
  },
  {
   "cell_type": "code",
   "execution_count": null,
   "id": "9b2ab85c",
   "metadata": {},
   "outputs": [],
   "source": [
    "!pip3.7 install bs4"
   ]
  },
  {
   "cell_type": "markdown",
   "id": "bef9b0c7",
   "metadata": {},
   "source": [
    "### Vamos utilizar também o parser HTML5LIB"
   ]
  },
  {
   "cell_type": "code",
   "execution_count": null,
   "id": "2d935caf",
   "metadata": {},
   "outputs": [],
   "source": [
    "!pip3.7 install html5lib"
   ]
  },
  {
   "cell_type": "markdown",
   "id": "fa584b6a",
   "metadata": {},
   "source": [
    "### Agora vamos utilizar o Beautiful Soup para mapear o conteúdo do código HTML"
   ]
  },
  {
   "cell_type": "code",
   "execution_count": null,
   "id": "088b59fd",
   "metadata": {},
   "outputs": [],
   "source": [
    "from bs4 import BeautifulSoup"
   ]
  },
  {
   "cell_type": "code",
   "execution_count": null,
   "id": "7e0db8b6",
   "metadata": {},
   "outputs": [],
   "source": [
    "tags = BeautifulSoup(resposta.text, \"html5lib\")"
   ]
  },
  {
   "cell_type": "markdown",
   "id": "1a01b674",
   "metadata": {},
   "source": [
    "### Para começar, vamos localizar a tag Title"
   ]
  },
  {
   "cell_type": "code",
   "execution_count": null,
   "id": "54f9f89e",
   "metadata": {},
   "outputs": [],
   "source": [
    "title = tags.find(\"title\")\n",
    "title"
   ]
  },
  {
   "cell_type": "code",
   "execution_count": null,
   "id": "2bd8ec7b",
   "metadata": {},
   "outputs": [],
   "source": [
    "title.text"
   ]
  },
  {
   "cell_type": "markdown",
   "id": "d7388b3b",
   "metadata": {},
   "source": [
    "### Agora vamos tentar extrair os títulos de cada vaga"
   ]
  },
  {
   "cell_type": "code",
   "execution_count": null,
   "id": "627aff3f",
   "metadata": {},
   "outputs": [],
   "source": [
    "subtitles = tags.find_all(\"h2\")\n",
    "[h2.text for h2 in subtitles]"
   ]
  },
  {
   "cell_type": "markdown",
   "id": "84c3dc70",
   "metadata": {},
   "source": [
    "### Podemos fazer ficar mais claro se selecionarmos pela classe correta e navegarmos pelas tags"
   ]
  },
  {
   "cell_type": "code",
   "execution_count": null,
   "id": "75224540",
   "metadata": {},
   "outputs": [],
   "source": [
    "subtitles = tags.find_all(\"h2\", attrs = {\"class\" : \"listing-company\"})\n",
    "[h2.a.text for h2 in subtitles]"
   ]
  },
  {
   "cell_type": "markdown",
   "id": "1c365700",
   "metadata": {},
   "source": [
    "### Podemos construir um Web Crawler extraindo os links de cada vaga"
   ]
  },
  {
   "cell_type": "code",
   "execution_count": null,
   "id": "b2ed6f06",
   "metadata": {},
   "outputs": [],
   "source": [
    "para_visitar = [\"https://www.python.org\" + h2.a[\"href\"] for h2 in subtitles]"
   ]
  },
  {
   "cell_type": "code",
   "execution_count": null,
   "id": "2fb8f2d0",
   "metadata": {},
   "outputs": [],
   "source": [
    "sites = []\n",
    "for pv in para_visitar:\n",
    "    sites.append(get(pv))"
   ]
  },
  {
   "cell_type": "markdown",
   "id": "8c153696",
   "metadata": {},
   "source": [
    "### Uma dica importante é que a separação por classes e a padronização do HTML depende dos desenvolvedores do site. Então, pode ser que em alguns sites seja difícil navegar, pois não foram seguidas as boas práticas de desenvolvimento."
   ]
  }
 ],
 "metadata": {
  "kernelspec": {
   "display_name": "Python 3",
   "language": "python",
   "name": "python3"
  },
  "language_info": {
   "codemirror_mode": {
    "name": "ipython",
    "version": 3
   },
   "file_extension": ".py",
   "mimetype": "text/x-python",
   "name": "python",
   "nbconvert_exporter": "python",
   "pygments_lexer": "ipython3",
   "version": "3.7.10"
  }
 },
 "nbformat": 4,
 "nbformat_minor": 5
}
