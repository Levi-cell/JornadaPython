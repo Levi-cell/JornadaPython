{
  "nbformat": 4,
  "nbformat_minor": 0,
  "metadata": {
    "colab": {
      "provenance": []
    },
    "kernelspec": {
      "name": "python3",
      "display_name": "Python 3"
    },
    "language_info": {
      "name": "python"
    }
  },
  "cells": [
    {
      "cell_type": "markdown",
      "source": [
        "Vamos criar um arquivo XML"
      ],
      "metadata": {
        "id": "SZ_oXlMZSWrl"
      }
    },
    {
      "cell_type": "markdown",
      "source": [
        "Primeiro, vamos importar a biblioteca que vai nos auxiliar  a criar o arquivo na extensão xml e definir suas marcações"
      ],
      "metadata": {
        "id": "NxavWP9oSbbL"
      }
    },
    {
      "cell_type": "code",
      "source": [
        "import xml.etree.cElementTree as ET\n"
      ],
      "metadata": {
        "id": "U_Esx1OpSfBF"
      },
      "execution_count": null,
      "outputs": []
    },
    {
      "cell_type": "code",
      "execution_count": null,
      "metadata": {
        "id": "p4mW2VDsSQrK"
      },
      "outputs": [],
      "source": [
        "#Agora iremos criar o root (raiz) que é a marcação pela qual outras marcações vão ser criadas:\n",
        "root = ET.Element(\"xml\")\n",
        "\n",
        "#Em seguida, vamos criar os elementos nome, telefone e endereço. Para elemento um texto relacionado a ele será definido. Além disso, os elementos criados serão adicionados à marcação raiz.\n",
        "\n",
        "\n",
        "nome = ET.Element(\"Nome\")\n",
        "nome.text='Fulano da Silva'\n",
        "root.append(nome)\n",
        "\n",
        "telefone = ET.Element(\"Telefone\")\n",
        "telefone.text=' 11 999999999'\n",
        "root.append(telefone)\n",
        "\n",
        "\n",
        "endereco = ET.Element(\"Endereco\")\n",
        "endereco.text=' Rua xyz,423'\n",
        "root.append(endereco)\n",
        "\n",
        "\n",
        "#Pronto, agora vamos criar o documento xml e salva-lo com o nome meuPrimeiroXML.xml\n",
        "\n",
        "tree = ET.ElementTree(root)\n",
        "\n",
        "tree.write(\"meuPrimeiroXML.xml\")"
      ]
    },
    {
      "cell_type": "markdown",
      "source": [
        "Vamo ler o arquivo xml"
      ],
      "metadata": {
        "id": "9qEEm5BxgB77"
      }
    },
    {
      "cell_type": "code",
      "source": [
        "import xml.etree.ElementTree as ET\n",
        "tree = ET.parse('meuPrimeiroXML.xml')\n",
        "root = tree.getroot()"
      ],
      "metadata": {
        "id": "U19uyg-cCnHl"
      },
      "execution_count": null,
      "outputs": []
    },
    {
      "cell_type": "code",
      "source": [
        "#Para recuperar os dados que queremos, por exemplo o nome, fazemos:\n",
        "tree.find('Telefone').text"
      ],
      "metadata": {
        "colab": {
          "base_uri": "https://localhost:8080/",
          "height": 35
        },
        "id": "vLKYBxU_C2AZ",
        "outputId": "a5c86c1f-6e6c-435d-c2f8-3e5d4a8c6c4c"
      },
      "execution_count": null,
      "outputs": [
        {
          "output_type": "execute_result",
          "data": {
            "text/plain": [
              "' 11 999999999'"
            ],
            "application/vnd.google.colaboratory.intrinsic+json": {
              "type": "string"
            }
          },
          "metadata": {},
          "execution_count": 6
        }
      ]
    }
  ]
}