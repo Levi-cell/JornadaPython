{
 "cells": [
  {
   "cell_type": "markdown",
   "id": "3fe10e79",
   "metadata": {},
   "source": [
    "### A biblioteca built-in JSON possui quatro importantes funções"
   ]
  },
  {
   "cell_type": "code",
   "execution_count": 3,
   "id": "223355be",
   "metadata": {},
   "outputs": [],
   "source": [
    "from json import dump, dumps, load, loads"
   ]
  },
  {
   "cell_type": "markdown",
   "id": "e05d8684",
   "metadata": {},
   "source": [
    "### Primeiramente vamos criar um arquivo de exemplo"
   ]
  },
  {
   "cell_type": "code",
   "execution_count": 1,
   "id": "207191c6",
   "metadata": {},
   "outputs": [],
   "source": [
    "json_exemplo = {\n",
    "    \"chave1\" : \"valor1\",\n",
    "    \"chave2\" : \"valor2\"\n",
    "}"
   ]
  },
  {
   "cell_type": "markdown",
   "id": "1a715a44",
   "metadata": {},
   "source": [
    "### Para fazer a conversão do formato dicionário para string usamos a função dumps"
   ]
  },
  {
   "cell_type": "code",
   "execution_count": 4,
   "id": "596a1b35",
   "metadata": {},
   "outputs": [
    {
     "data": {
      "text/plain": [
       "'{\"chave1\": \"valor1\", \"chave2\": \"valor2\"}'"
      ]
     },
     "execution_count": 4,
     "metadata": {},
     "output_type": "execute_result"
    }
   ],
   "source": [
    "string_json = dumps(json_exemplo)\n",
    "string_json"
   ]
  },
  {
   "cell_type": "markdown",
   "id": "6fd5f85d",
   "metadata": {},
   "source": [
    "### Para fazer a conversão de string para dicionário usamos a função loads"
   ]
  },
  {
   "cell_type": "code",
   "execution_count": 5,
   "id": "875ed2a3",
   "metadata": {},
   "outputs": [
    {
     "data": {
      "text/plain": [
       "{'chave1': 'valor1', 'chave2': 'valor2'}"
      ]
     },
     "execution_count": 5,
     "metadata": {},
     "output_type": "execute_result"
    }
   ],
   "source": [
    "json_str2dict = loads(string_json)\n",
    "json_str2dict"
   ]
  },
  {
   "cell_type": "markdown",
   "id": "e5902b9a",
   "metadata": {},
   "source": [
    "### Para salvar em um arquivo no formato JSON usamos a função dump"
   ]
  },
  {
   "cell_type": "code",
   "execution_count": 6,
   "id": "9cc5a644",
   "metadata": {},
   "outputs": [],
   "source": [
    "with open(\"json_exemplo.json\", \"w\") as file:\n",
    "    dump(json_str2dict, file)"
   ]
  },
  {
   "cell_type": "markdown",
   "id": "bd78e1f7",
   "metadata": {},
   "source": [
    "### Para ler de um arquivo JSON usamos a função load"
   ]
  },
  {
   "cell_type": "code",
   "execution_count": 8,
   "id": "0c12ba2a",
   "metadata": {},
   "outputs": [
    {
     "data": {
      "text/plain": [
       "{'chave1': 'valor1', 'chave2': 'valor2', 'chave3': 'valor3'}"
      ]
     },
     "execution_count": 8,
     "metadata": {},
     "output_type": "execute_result"
    }
   ],
   "source": [
    "with open(\"json_exemplo.json\") as file:\n",
    "    leitura_do_json = load(file)\n",
    "    \n",
    "leitura_do_json"
   ]
  },
  {
   "cell_type": "code",
   "execution_count": null,
   "id": "a271ce0a",
   "metadata": {},
   "outputs": [],
   "source": []
  }
 ],
 "metadata": {
  "kernelspec": {
   "display_name": "Python 3",
   "language": "python",
   "name": "python3"
  },
  "language_info": {
   "codemirror_mode": {
    "name": "ipython",
    "version": 3
   },
   "file_extension": ".py",
   "mimetype": "text/x-python",
   "name": "python",
   "nbconvert_exporter": "python",
   "pygments_lexer": "ipython3",
   "version": "3.7.10"
  }
 },
 "nbformat": 4,
 "nbformat_minor": 5
}
