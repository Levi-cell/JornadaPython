{
 "cells": [
  {
   "cell_type": "markdown",
   "id": "d269607a",
   "metadata": {},
   "source": [
    "### O Python possui a biblioteca built-in XML"
   ]
  },
  {
   "cell_type": "code",
   "execution_count": 1,
   "id": "98b7eb70",
   "metadata": {},
   "outputs": [],
   "source": [
    "from xml.etree import ElementTree"
   ]
  },
  {
   "cell_type": "markdown",
   "id": "3e4e862f",
   "metadata": {},
   "source": [
    "### Vamos fazer a leitura do nosso arquivo de exemplo do XML"
   ]
  },
  {
   "cell_type": "code",
   "execution_count": 2,
   "id": "9144bde0",
   "metadata": {},
   "outputs": [],
   "source": [
    "parsed_xml = ElementTree.parse(\"exemplo_xml.xml\")"
   ]
  },
  {
   "cell_type": "markdown",
   "id": "538f5e30",
   "metadata": {},
   "source": [
    "### Para extrairmos qual tag é a raiz do XML utilizamos a função getroot"
   ]
  },
  {
   "cell_type": "code",
   "execution_count": 3,
   "id": "ff058b3d",
   "metadata": {},
   "outputs": [],
   "source": [
    "root = parsed_xml.getroot()"
   ]
  },
  {
   "cell_type": "code",
   "execution_count": 4,
   "id": "7f6917c4",
   "metadata": {},
   "outputs": [
    {
     "data": {
      "text/plain": [
       "'mentorama'"
      ]
     },
     "execution_count": 4,
     "metadata": {},
     "output_type": "execute_result"
    }
   ],
   "source": [
    "root.tag"
   ]
  },
  {
   "cell_type": "code",
   "execution_count": 5,
   "id": "84c1f66e",
   "metadata": {},
   "outputs": [
    {
     "data": {
      "text/plain": [
       "{'year': '2021'}"
      ]
     },
     "execution_count": 5,
     "metadata": {},
     "output_type": "execute_result"
    }
   ],
   "source": [
    "root.attrib"
   ]
  },
  {
   "cell_type": "code",
   "execution_count": 6,
   "id": "53ebe78a",
   "metadata": {},
   "outputs": [
    {
     "data": {
      "text/plain": [
       "'2021'"
      ]
     },
     "execution_count": 6,
     "metadata": {},
     "output_type": "execute_result"
    }
   ],
   "source": [
    "root.attrib[\"year\"]"
   ]
  },
  {
   "cell_type": "code",
   "execution_count": 7,
   "id": "7857edeb",
   "metadata": {},
   "outputs": [
    {
     "data": {
      "text/plain": [
       "'2021'"
      ]
     },
     "execution_count": 7,
     "metadata": {},
     "output_type": "execute_result"
    }
   ],
   "source": [
    "root.attrib.get(\"year\")"
   ]
  },
  {
   "cell_type": "markdown",
   "id": "4965269b",
   "metadata": {},
   "source": [
    "### Podemos buscar por tags específicas com a função findall"
   ]
  },
  {
   "cell_type": "code",
   "execution_count": 11,
   "id": "2d7e2255",
   "metadata": {},
   "outputs": [
    {
     "data": {
      "text/plain": [
       "[{'type': 'iniciante'}, {'type': 'profissional'}]"
      ]
     },
     "execution_count": 11,
     "metadata": {},
     "output_type": "execute_result"
    }
   ],
   "source": [
    "[tag.attrib for tag in root.findall(\"python\")]"
   ]
  },
  {
   "cell_type": "code",
   "execution_count": 12,
   "id": "2990a38b",
   "metadata": {},
   "outputs": [
    {
     "data": {
      "text/plain": [
       "['8', '9']"
      ]
     },
     "execution_count": 12,
     "metadata": {},
     "output_type": "execute_result"
    }
   ],
   "source": [
    "[tag.find(\"modulos\").text for tag in root.findall(\"python\")]"
   ]
  }
 ],
 "metadata": {
  "kernelspec": {
   "display_name": "Python 3",
   "language": "python",
   "name": "python3"
  },
  "language_info": {
   "codemirror_mode": {
    "name": "ipython",
    "version": 3
   },
   "file_extension": ".py",
   "mimetype": "text/x-python",
   "name": "python",
   "nbconvert_exporter": "python",
   "pygments_lexer": "ipython3",
   "version": "3.7.10"
  }
 },
 "nbformat": 4,
 "nbformat_minor": 5
}
