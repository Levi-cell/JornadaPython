{
  "cells": [
    {
      "cell_type": "markdown",
      "id": "10ae413b",
      "metadata": {
        "id": "10ae413b"
      },
      "source": [
        "### Vamos fazer o download da biblioteca PyYaml"
      ]
    },
    {
      "cell_type": "code",
      "execution_count": 12,
      "id": "5d9811d9",
      "metadata": {
        "colab": {
          "base_uri": "https://localhost:8080/"
        },
        "id": "5d9811d9",
        "outputId": "645f9d4e-10e6-4f58-babb-586ca095e32a"
      },
      "outputs": [
        {
          "output_type": "stream",
          "name": "stdout",
          "text": [
            "Looking in indexes: https://pypi.org/simple, https://us-python.pkg.dev/colab-wheels/public/simple/\n",
            "Requirement already satisfied: pyyaml in /usr/local/lib/python3.9/dist-packages (5.4.1)\n"
          ]
        }
      ],
      "source": [
        "!pip install pyyaml"
      ]
    },
    {
      "cell_type": "markdown",
      "id": "ddd357bc",
      "metadata": {
        "id": "ddd357bc"
      },
      "source": [
        "### Não é aconselhável utilizar a função load diretamente, pois ela possui falhas de segurança"
      ]
    },
    {
      "cell_type": "code",
      "execution_count": 19,
      "id": "1f1553a9",
      "metadata": {
        "id": "1f1553a9"
      },
      "outputs": [],
      "source": [
        "from yaml import load, FullLoader, dump\n",
        "\n"
      ]
    },
    {
      "cell_type": "code",
      "execution_count": 22,
      "id": "8fd4325e",
      "metadata": {
        "id": "8fd4325e"
      },
      "outputs": [],
      "source": [
        "with open(\"exemplo_yaml.yml\") as file:\n",
        "    yaml_file = load(file, Loader=FullLoader)"
      ]
    },
    {
      "cell_type": "code",
      "execution_count": null,
      "id": "cd4a7b4e",
      "metadata": {
        "id": "cd4a7b4e"
      },
      "outputs": [],
      "source": []
    },
    {
      "cell_type": "markdown",
      "id": "af7b9087",
      "metadata": {
        "id": "af7b9087"
      },
      "source": [
        "### Com esta conversão a biblioteca PyYaml nos retorna o valor do YAML como dicionário"
      ]
    },
    {
      "cell_type": "code",
      "execution_count": 23,
      "id": "c03fea23",
      "metadata": {
        "id": "c03fea23",
        "colab": {
          "base_uri": "https://localhost:8080/"
        },
        "outputId": "5fea8a6d-ae5e-45f4-900b-e9d66d4725ed"
      },
      "outputs": [
        {
          "output_type": "execute_result",
          "data": {
            "text/plain": [
              "{'version': '3',\n",
              " 'services': {'web': {'build': 'web',\n",
              "   'command': 'python app.py',\n",
              "   'ports': ['5000:5000'],\n",
              "   'volumes': ['./web:/code'],\n",
              "   'links': ['redis'],\n",
              "   'environment': ['DATADOG_HOST=datadog']},\n",
              "  'redis': {'image': 'redis'},\n",
              "  'datadog': {'build': 'datadog',\n",
              "   'links': ['redis', 'web'],\n",
              "   'environment': ['DD_API_KEY=__your_datadog_api_key_here__'],\n",
              "   'volumes': ['/var/run/docker.sock:/var/run/docker.sock',\n",
              "    '/proc/:/host/proc/:ro',\n",
              "    '/sys/fs/cgroup:/host/sys/fs/cgroup:ro']}}}"
            ]
          },
          "metadata": {},
          "execution_count": 23
        }
      ],
      "source": [
        "yaml_file"
      ]
    },
    {
      "cell_type": "markdown",
      "id": "caa72c28",
      "metadata": {
        "id": "caa72c28"
      },
      "source": [
        "### Vamos agora criar um arquivo YAML"
      ]
    },
    {
      "cell_type": "code",
      "execution_count": 24,
      "id": "5b08d96c",
      "metadata": {
        "id": "5b08d96c"
      },
      "outputs": [],
      "source": [
        "dict2yaml = {\n",
        "    \"formatos\" : [\n",
        "        \"json\",\n",
        "        \"yaml\"\n",
        "    ],\n",
        "    \"markup languages\" : [\n",
        "        \"html\",\n",
        "        \"xml\",\n",
        "        \"sgml\"\n",
        "    ]\n",
        "}"
      ]
    },
    {
      "cell_type": "code",
      "execution_count": 25,
      "id": "bb9a6fc5",
      "metadata": {
        "id": "bb9a6fc5"
      },
      "outputs": [],
      "source": [
        "with open(\"novo_yaml.yml\", \"w\") as file:\n",
        "    dump(dict2yaml, file)"
      ]
    },
    {
      "cell_type": "code",
      "execution_count": null,
      "id": "e2206a79",
      "metadata": {
        "id": "e2206a79"
      },
      "outputs": [],
      "source": []
    }
  ],
  "metadata": {
    "kernelspec": {
      "display_name": "Python 3",
      "language": "python",
      "name": "python3"
    },
    "language_info": {
      "codemirror_mode": {
        "name": "ipython",
        "version": 3
      },
      "file_extension": ".py",
      "mimetype": "text/x-python",
      "name": "python",
      "nbconvert_exporter": "python",
      "pygments_lexer": "ipython3",
      "version": "3.7.10"
    },
    "colab": {
      "provenance": []
    }
  },
  "nbformat": 4,
  "nbformat_minor": 5
}