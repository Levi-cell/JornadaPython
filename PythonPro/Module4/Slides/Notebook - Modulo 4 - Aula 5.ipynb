{
 "cells": [
  {
   "cell_type": "markdown",
   "id": "6b0a79bd",
   "metadata": {},
   "source": [
    "### Vamos importar as funções findall e search da biblioteca built-in do Python"
   ]
  },
  {
   "cell_type": "code",
   "execution_count": 1,
   "id": "c0aa3fe3",
   "metadata": {},
   "outputs": [],
   "source": [
    "from re import findall, search"
   ]
  },
  {
   "cell_type": "markdown",
   "id": "c14ec1c5",
   "metadata": {},
   "source": [
    "### Vamos começar com um texto simples como exemplo"
   ]
  },
  {
   "cell_type": "code",
   "execution_count": 18,
   "id": "41248a02",
   "metadata": {},
   "outputs": [],
   "source": [
    "texto = \"Estamos estudando Pithon no curso Python Pro da Mentorama\""
   ]
  },
  {
   "cell_type": "code",
   "execution_count": 6,
   "id": "2b8bd29b",
   "metadata": {},
   "outputs": [
    {
     "data": {
      "text/plain": [
       "['da', 'da']"
      ]
     },
     "execution_count": 6,
     "metadata": {},
     "output_type": "execute_result"
    }
   ],
   "source": [
    "findall(\"da\", texto)"
   ]
  },
  {
   "cell_type": "code",
   "execution_count": 7,
   "id": "1303235e",
   "metadata": {},
   "outputs": [
    {
     "data": {
      "text/plain": [
       "12"
      ]
     },
     "execution_count": 7,
     "metadata": {},
     "output_type": "execute_result"
    }
   ],
   "source": [
    "search(\"da\", texto).start()"
   ]
  },
  {
   "cell_type": "markdown",
   "id": "5b82535b",
   "metadata": {},
   "source": [
    "### Podemos também retirar caracteres especiais dos textos"
   ]
  },
  {
   "cell_type": "code",
   "execution_count": 14,
   "id": "29795de5",
   "metadata": {},
   "outputs": [],
   "source": [
    "caracteres_especiais = \"Estamos @ estudando #Python no curso 1 Python Pro da Mentorama\""
   ]
  },
  {
   "cell_type": "code",
   "execution_count": 16,
   "id": "9a41a164",
   "metadata": {},
   "outputs": [],
   "source": [
    "palavras = findall(r\"\\w+\", caracteres_especiais)"
   ]
  },
  {
   "cell_type": "code",
   "execution_count": 17,
   "id": "cd0d234c",
   "metadata": {},
   "outputs": [
    {
     "data": {
      "text/plain": [
       "'Estamos estudando Python no curso 1 Python Pro da Mentorama'"
      ]
     },
     "execution_count": 17,
     "metadata": {},
     "output_type": "execute_result"
    }
   ],
   "source": [
    "\" \".join(palavras)"
   ]
  },
  {
   "cell_type": "markdown",
   "id": "de9ed5dc",
   "metadata": {},
   "source": [
    "### Quando não sabemos se um caractere está presente ou não, podemos utilizar o ponto"
   ]
  },
  {
   "cell_type": "code",
   "execution_count": 23,
   "id": "819dac21",
   "metadata": {},
   "outputs": [
    {
     "data": {
      "text/plain": [
       "[]"
      ]
     },
     "execution_count": 23,
     "metadata": {},
     "output_type": "execute_result"
    }
   ],
   "source": [
    "findall(r\"P.thon\", texto)"
   ]
  },
  {
   "cell_type": "markdown",
   "id": "503b8da7",
   "metadata": {},
   "source": [
    "### Podemos também buscar apenas pela ocorrência inicial da palavra"
   ]
  },
  {
   "cell_type": "code",
   "execution_count": 22,
   "id": "363b58f2",
   "metadata": {},
   "outputs": [
    {
     "data": {
      "text/plain": [
       "['py', 'py']"
      ]
     },
     "execution_count": 22,
     "metadata": {},
     "output_type": "execute_result"
    }
   ],
   "source": [
    "padrao = r\"py\\b\"\n",
    "texto = \"python é uma linguagem pythonica e os seus arquivos.py possuem a extensão py\"\n",
    "\n",
    "findall(padrao, texto)"
   ]
  },
  {
   "cell_type": "code",
   "execution_count": null,
   "id": "146d08b6",
   "metadata": {},
   "outputs": [],
   "source": []
  }
 ],
 "metadata": {
  "kernelspec": {
   "display_name": "Python 3",
   "language": "python",
   "name": "python3"
  },
  "language_info": {
   "codemirror_mode": {
    "name": "ipython",
    "version": 3
   },
   "file_extension": ".py",
   "mimetype": "text/x-python",
   "name": "python",
   "nbconvert_exporter": "python",
   "pygments_lexer": "ipython3",
   "version": "3.7.10"
  }
 },
 "nbformat": 4,
 "nbformat_minor": 5
}
