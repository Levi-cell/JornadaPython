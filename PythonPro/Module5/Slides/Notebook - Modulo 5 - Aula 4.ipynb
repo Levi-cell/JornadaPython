{
 "cells": [
  {
   "cell_type": "markdown",
   "id": "09296379",
   "metadata": {},
   "source": [
    "### Primeiramente vamos instalar as nossas bibliotecas de lint"
   ]
  },
  {
   "cell_type": "code",
   "execution_count": 1,
   "id": "7543231a",
   "metadata": {},
   "outputs": [
    {
     "name": "stdout",
     "output_type": "stream",
     "text": [
      "Requirement already satisfied: pylint in /home/rafael/Documentos/Projetos/mentorama/lib/python3.7/site-packages (2.8.3)\n",
      "Requirement already satisfied: mccabe<0.7,>=0.6 in /home/rafael/Documentos/Projetos/mentorama/lib/python3.7/site-packages (from pylint) (0.6.1)\n",
      "Requirement already satisfied: isort<6,>=4.2.5 in /home/rafael/Documentos/Projetos/mentorama/lib/python3.7/site-packages (from pylint) (5.8.0)\n",
      "Requirement already satisfied: astroid==2.5.6 in /home/rafael/Documentos/Projetos/mentorama/lib/python3.7/site-packages (from pylint) (2.5.6)\n",
      "Requirement already satisfied: toml>=0.7.1 in /home/rafael/Documentos/Projetos/mentorama/lib/python3.7/site-packages (from pylint) (0.10.2)\n",
      "Requirement already satisfied: typed-ast<1.5,>=1.4.0 in /home/rafael/Documentos/Projetos/mentorama/lib/python3.7/site-packages (from astroid==2.5.6->pylint) (1.4.3)\n",
      "Requirement already satisfied: lazy-object-proxy>=1.4.0 in /home/rafael/Documentos/Projetos/mentorama/lib/python3.7/site-packages (from astroid==2.5.6->pylint) (1.6.0)\n",
      "Requirement already satisfied: wrapt<1.13,>=1.11 in /home/rafael/Documentos/Projetos/mentorama/lib/python3.7/site-packages (from astroid==2.5.6->pylint) (1.12.1)\n",
      "\u001b[33mWARNING: You are using pip version 21.1.1; however, version 21.1.2 is available.\n",
      "You should consider upgrading via the '/home/rafael/Documentos/Projetos/mentorama/bin/python -m pip install --upgrade pip' command.\u001b[0m\n"
     ]
    }
   ],
   "source": [
    "!pip3.7 install pylint"
   ]
  },
  {
   "cell_type": "code",
   "execution_count": 2,
   "id": "724e9927",
   "metadata": {},
   "outputs": [
    {
     "name": "stdout",
     "output_type": "stream",
     "text": [
      "Requirement already satisfied: pycodestyle in /home/rafael/Documentos/Projetos/mentorama/lib/python3.7/site-packages (2.7.0)\n",
      "\u001b[33mWARNING: You are using pip version 21.1.1; however, version 21.1.2 is available.\n",
      "You should consider upgrading via the '/home/rafael/Documentos/Projetos/mentorama/bin/python -m pip install --upgrade pip' command.\u001b[0m\n"
     ]
    }
   ],
   "source": [
    "!pip3.7 install pycodestyle"
   ]
  },
  {
   "cell_type": "markdown",
   "id": "9daa670f",
   "metadata": {},
   "source": [
    "### Vamos verificar com cada biblioteca o que elas vão nos apontar em cada arquivo"
   ]
  },
  {
   "cell_type": "code",
   "execution_count": 7,
   "id": "d0cce979",
   "metadata": {},
   "outputs": [
    {
     "name": "stdout",
     "output_type": "stream",
     "text": [
      "************* Module main\r\n",
      "exemplo_lint/main.py:1:0: C0114: Missing module docstring (missing-module-docstring)\r\n",
      "\r\n",
      "------------------------------------------------------------------\r\n",
      "Your code has been rated at 9.00/10 (previous run: 9.00/10, +0.00)\r\n",
      "\r\n"
     ]
    }
   ],
   "source": [
    "!python3.7 -m pylint exemplo_lint/main.py"
   ]
  },
  {
   "cell_type": "code",
   "execution_count": 10,
   "id": "f421224c",
   "metadata": {},
   "outputs": [
    {
     "name": "stdout",
     "output_type": "stream",
     "text": [
      "exemplo_lint/main.py:11:80: E501 line too long (80 > 79 characters)\r\n"
     ]
    }
   ],
   "source": [
    "!python3.7 -m pycodestyle exemplo_lint/main.py"
   ]
  },
  {
   "cell_type": "code",
   "execution_count": 13,
   "id": "2719622c",
   "metadata": {},
   "outputs": [
    {
     "name": "stdout",
     "output_type": "stream",
     "text": [
      "************* Module fizzbuzz\r\n",
      "exemplo_lint/calcular/fizzbuzz.py:1:0: C0114: Missing module docstring (missing-module-docstring)\r\n",
      "exemplo_lint/calcular/fizzbuzz.py:1:0: C0103: Class name \"calcular\" doesn't conform to PascalCase naming style (invalid-name)\r\n",
      "exemplo_lint/calcular/fizzbuzz.py:1:0: C0115: Missing class docstring (missing-class-docstring)\r\n",
      "exemplo_lint/calcular/fizzbuzz.py:2:4: C0116: Missing function or method docstring (missing-function-docstring)\r\n",
      "exemplo_lint/calcular/fizzbuzz.py:2:4: E0213: Method should have \"self\" as first argument (no-self-argument)\r\n",
      "exemplo_lint/calcular/fizzbuzz.py:1:0: R0903: Too few public methods (1/2) (too-few-public-methods)\r\n",
      "\r\n",
      "-------------------------------------------------------------------\r\n",
      "Your code has been rated at 0.00/10 (previous run: -3.00/10, +3.00)\r\n",
      "\r\n"
     ]
    }
   ],
   "source": [
    "!python3.7 -m pylint exemplo_lint/calcular/fizzbuzz.py"
   ]
  },
  {
   "cell_type": "code",
   "execution_count": 14,
   "id": "30de0134",
   "metadata": {},
   "outputs": [],
   "source": [
    "!python3.7 -m pycodestyle exemplo_lint/calcular/fizzbuzz.py"
   ]
  },
  {
   "cell_type": "code",
   "execution_count": null,
   "id": "8ab5eac3",
   "metadata": {},
   "outputs": [],
   "source": []
  }
 ],
 "metadata": {
  "kernelspec": {
   "display_name": "Python 3",
   "language": "python",
   "name": "python3"
  },
  "language_info": {
   "codemirror_mode": {
    "name": "ipython",
    "version": 3
   },
   "file_extension": ".py",
   "mimetype": "text/x-python",
   "name": "python",
   "nbconvert_exporter": "python",
   "pygments_lexer": "ipython3",
   "version": "3.7.10"
  }
 },
 "nbformat": 4,
 "nbformat_minor": 5
}
