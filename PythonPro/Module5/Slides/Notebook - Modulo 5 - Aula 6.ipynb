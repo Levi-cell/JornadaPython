{
 "cells": [
  {
   "cell_type": "markdown",
   "id": "b4d91238",
   "metadata": {},
   "source": [
    "### Comandos básicos no Linux\n",
    "\n",
    "- apt-get install\n",
    "- yum install\n",
    "- apk install"
   ]
  },
  {
   "cell_type": "code",
   "execution_count": 11,
   "id": "dfda0926",
   "metadata": {},
   "outputs": [
    {
     "name": "stdout",
     "output_type": "stream",
     "text": [
      "acesso.json   etc      módulo2\tmódulo5     README.md\r\n",
      "bin\t      lib      módulo3\tmódulo6     requirements.txt\r\n",
      "colaflask.py  módulo1  módulo4\tpyvenv.cfg  share\r\n"
     ]
    }
   ],
   "source": [
    "!ls"
   ]
  },
  {
   "cell_type": "code",
   "execution_count": 3,
   "id": "1c8d33a2",
   "metadata": {},
   "outputs": [],
   "source": [
    "!mkdir teste"
   ]
  },
  {
   "cell_type": "code",
   "execution_count": 5,
   "id": "72cc7a63",
   "metadata": {},
   "outputs": [],
   "source": [
    "!cd teste"
   ]
  },
  {
   "cell_type": "code",
   "execution_count": 7,
   "id": "26481767",
   "metadata": {},
   "outputs": [],
   "source": [
    "!ls teste"
   ]
  },
  {
   "cell_type": "code",
   "execution_count": 8,
   "id": "22e61e50",
   "metadata": {},
   "outputs": [
    {
     "name": "stdout",
     "output_type": "stream",
     "text": [
      "/home/rafael/Documentos/Projetos/mentorama\n"
     ]
    }
   ],
   "source": [
    "cd .."
   ]
  },
  {
   "cell_type": "code",
   "execution_count": 12,
   "id": "78334565",
   "metadata": {},
   "outputs": [],
   "source": [
    "!rm -rf teste"
   ]
  }
 ],
 "metadata": {
  "kernelspec": {
   "display_name": "Python 3",
   "language": "python",
   "name": "python3"
  },
  "language_info": {
   "codemirror_mode": {
    "name": "ipython",
    "version": 3
   },
   "file_extension": ".py",
   "mimetype": "text/x-python",
   "name": "python",
   "nbconvert_exporter": "python",
   "pygments_lexer": "ipython3",
   "version": "3.7.10"
  }
 },
 "nbformat": 4,
 "nbformat_minor": 5
}
