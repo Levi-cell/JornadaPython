{
 "cells": [
  {
   "cell_type": "markdown",
   "id": "b67a07ea",
   "metadata": {},
   "source": [
    "### Vamos testar a nossa API enviando uma requisição POST"
   ]
  },
  {
   "cell_type": "code",
   "execution_count": 2,
   "id": "1d79a6f3",
   "metadata": {},
   "outputs": [],
   "source": [
    "from requests import post, get"
   ]
  },
  {
   "cell_type": "code",
   "execution_count": 3,
   "id": "6b3fa0b6",
   "metadata": {},
   "outputs": [],
   "source": [
    "resp = get(\"http://localhost:5000/novarota\")"
   ]
  },
  {
   "cell_type": "code",
   "execution_count": 4,
   "id": "b0c41c65",
   "metadata": {},
   "outputs": [
    {
     "data": {
      "text/plain": [
       "'<h2>Esta é uma nova rota</h2>'"
      ]
     },
     "execution_count": 4,
     "metadata": {},
     "output_type": "execute_result"
    }
   ],
   "source": [
    "resp.text"
   ]
  },
  {
   "cell_type": "code",
   "execution_count": 5,
   "id": "0b9aa586",
   "metadata": {},
   "outputs": [],
   "source": [
    "resp = post(\"http://localhost:5000/api\", json = {\"key\" : \"value\"})"
   ]
  },
  {
   "cell_type": "code",
   "execution_count": 6,
   "id": "6848e835",
   "metadata": {},
   "outputs": [
    {
     "data": {
      "text/plain": [
       "True"
      ]
     },
     "execution_count": 6,
     "metadata": {},
     "output_type": "execute_result"
    }
   ],
   "source": [
    "resp.ok"
   ]
  },
  {
   "cell_type": "code",
   "execution_count": 7,
   "id": "019385c0",
   "metadata": {},
   "outputs": [
    {
     "data": {
      "text/plain": [
       "'{\"key\":\"value\"}\\n'"
      ]
     },
     "execution_count": 7,
     "metadata": {},
     "output_type": "execute_result"
    }
   ],
   "source": [
    "resp.text"
   ]
  },
  {
   "cell_type": "code",
   "execution_count": 8,
   "id": "ccc5a8e8",
   "metadata": {},
   "outputs": [
    {
     "data": {
      "text/plain": [
       "'requisição GET'"
      ]
     },
     "execution_count": 8,
     "metadata": {},
     "output_type": "execute_result"
    }
   ],
   "source": [
    "get(\"http://localhost:5000/api\").text"
   ]
  }
 ],
 "metadata": {
  "kernelspec": {
   "display_name": "Python 3",
   "language": "python",
   "name": "python3"
  },
  "language_info": {
   "codemirror_mode": {
    "name": "ipython",
    "version": 3
   },
   "file_extension": ".py",
   "mimetype": "text/x-python",
   "name": "python",
   "nbconvert_exporter": "python",
   "pygments_lexer": "ipython3",
   "version": "3.7.10"
  }
 },
 "nbformat": 4,
 "nbformat_minor": 5
}
