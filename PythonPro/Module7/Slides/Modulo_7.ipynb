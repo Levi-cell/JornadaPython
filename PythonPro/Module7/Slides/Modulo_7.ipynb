{
  "nbformat": 4,
  "nbformat_minor": 0,
  "metadata": {
    "colab": {
      "provenance": []
    },
    "kernelspec": {
      "name": "python3",
      "display_name": "Python 3"
    },
    "language_info": {
      "name": "python"
    }
  },
  "cells": [
    {
      "cell_type": "markdown",
      "source": [
        "Vamos criar um projeto Django no Google Colab para vermos sua estrutura. Sugiro utilizar um IDE, pois o Colab tem muitas limitações para este tipo de implementação.\n",
        "\n",
        "1)Primeiro, você deve abrir este notebook pelo Google Colab. Agora, vamos instalar o Django no ambiente que estamos utilizando"
      ],
      "metadata": {
        "id": "kCCCrupcc3rS"
      }
    },
    {
      "cell_type": "code",
      "execution_count": null,
      "metadata": {
        "colab": {
          "base_uri": "https://localhost:8080/"
        },
        "id": "zQlmuzoqcnmq",
        "outputId": "bd0b9dc9-1b6e-46ed-d958-2a70f6366c35"
      },
      "outputs": [
        {
          "output_type": "stream",
          "name": "stdout",
          "text": [
            "Looking in indexes: https://pypi.org/simple, https://us-python.pkg.dev/colab-wheels/public/simple/\n",
            "Collecting django\n",
            "  Downloading Django-4.1.6-py3-none-any.whl (8.1 MB)\n",
            "\u001b[2K     \u001b[90m━━━━━━━━━━━━━━━━━━━━━━━━━━━━━━━━━━━━━━━━\u001b[0m \u001b[32m8.1/8.1 MB\u001b[0m \u001b[31m31.2 MB/s\u001b[0m eta \u001b[36m0:00:00\u001b[0m\n",
            "\u001b[?25hCollecting backports.zoneinfo\n",
            "  Downloading backports.zoneinfo-0.2.1-cp38-cp38-manylinux1_x86_64.whl (74 kB)\n",
            "\u001b[2K     \u001b[90m━━━━━━━━━━━━━━━━━━━━━━━━━━━━━━━━━━━━━━━━\u001b[0m \u001b[32m74.0/74.0 KB\u001b[0m \u001b[31m3.7 MB/s\u001b[0m eta \u001b[36m0:00:00\u001b[0m\n",
            "\u001b[?25hRequirement already satisfied: sqlparse>=0.2.2 in /usr/local/lib/python3.8/dist-packages (from django) (0.4.3)\n",
            "Collecting asgiref<4,>=3.5.2\n",
            "  Downloading asgiref-3.6.0-py3-none-any.whl (23 kB)\n",
            "Installing collected packages: backports.zoneinfo, asgiref, django\n",
            "Successfully installed asgiref-3.6.0 backports.zoneinfo-0.2.1 django-4.1.6\n"
          ]
        }
      ],
      "source": [
        "!pip install django"
      ]
    },
    {
      "cell_type": "markdown",
      "source": [
        "2) Vamos criar o projeto, vou chama-lo de meuProjeto. "
      ],
      "metadata": {
        "id": "EyS3CI3qdB12"
      }
    },
    {
      "cell_type": "code",
      "source": [
        "!django-admin startproject meuProjeto"
      ],
      "metadata": {
        "id": "V4tRrvUOdGDB"
      },
      "execution_count": null,
      "outputs": []
    },
    {
      "cell_type": "markdown",
      "source": [
        "Vamos ver se a pasta com o projeto foi criada"
      ],
      "metadata": {
        "id": "dSn6gi3oeOZN"
      }
    },
    {
      "cell_type": "code",
      "source": [
        "!ls"
      ],
      "metadata": {
        "colab": {
          "base_uri": "https://localhost:8080/"
        },
        "id": "35AODz3zeTfM",
        "outputId": "3df81b71-d896-431c-9121-74e0db2bdefa"
      },
      "execution_count": null,
      "outputs": [
        {
          "output_type": "stream",
          "name": "stdout",
          "text": [
            "meuProjeto  sample_data\n"
          ]
        }
      ]
    },
    {
      "cell_type": "markdown",
      "source": [
        "3)Vamos entrar na pasta do projeto"
      ],
      "metadata": {
        "id": "xtdxnFR2eY7A"
      }
    },
    {
      "cell_type": "code",
      "source": [
        "%cd /meuProjeto/"
      ],
      "metadata": {
        "colab": {
          "base_uri": "https://localhost:8080/"
        },
        "id": "rDu3lxMvegCW",
        "outputId": "9f79cd02-ef40-4b03-ee42-6b82d37c7699"
      },
      "execution_count": null,
      "outputs": [
        {
          "output_type": "stream",
          "name": "stdout",
          "text": [
            "[Errno 2] No such file or directory: '/meuProjeto/'\n",
            "/content\n"
          ]
        }
      ]
    },
    {
      "cell_type": "markdown",
      "source": [
        "4) O código a seguir vai gerar um link  para você acessar o servidor quando a aplicação estiver pronta"
      ],
      "metadata": {
        "id": "mEcnDok1eiVN"
      }
    },
    {
      "cell_type": "code",
      "source": [
        "from google.colab.output import eval_js\n",
        "print(eval_js(\"google.colab.kernel.proxyPort(8000)\"))"
      ],
      "metadata": {
        "colab": {
          "base_uri": "https://localhost:8080/",
          "height": 34
        },
        "id": "bbv-4CrCezjk",
        "outputId": "4c9f88e7-555b-4103-9141-ee0f6976b035"
      },
      "execution_count": null,
      "outputs": [
        {
          "output_type": "stream",
          "name": "stdout",
          "text": [
            "https://c9tzm9gqtod-496ff2e9c6d22116-8000-colab.googleusercontent.com/\n"
          ]
        }
      ]
    },
    {
      "cell_type": "markdown",
      "source": [
        "5) Vamos permitir o acesso ao servidor acima. Para isso, acesse o arquivo setting.py e adicione 'colab.research.google.com' na lista de ALLOWED_HOSTS. Salve a alteração."
      ],
      "metadata": {
        "id": "ez-xrbGre6js"
      }
    },
    {
      "cell_type": "code",
      "source": [
        "ALLOWED_HOSTS = ['colab.research.google.com']"
      ],
      "metadata": {
        "id": "xWuFvqGGfC7o"
      },
      "execution_count": null,
      "outputs": []
    },
    {
      "cell_type": "markdown",
      "source": [
        "6)Vamos inicializar o servidor e, depois disso, acesse o link gerado anteriormente"
      ],
      "metadata": {
        "id": "4LxER10yfCJp"
      }
    },
    {
      "cell_type": "code",
      "source": [
        "!python manage.py runserver 8000"
      ],
      "metadata": {
        "colab": {
          "base_uri": "https://localhost:8080/"
        },
        "id": "gt_qnXrXfSHd",
        "outputId": "b8076401-6817-4786-eaae-01c4ce28579d"
      },
      "execution_count": null,
      "outputs": [
        {
          "output_type": "stream",
          "name": "stdout",
          "text": [
            "python3: can't open file 'manage.py': [Errno 2] No such file or directory\n"
          ]
        }
      ]
    }
  ]
}