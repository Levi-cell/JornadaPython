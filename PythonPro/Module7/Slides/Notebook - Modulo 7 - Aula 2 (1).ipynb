{
 "cells": [
  {
   "cell_type": "markdown",
   "id": "85052a49",
   "metadata": {},
   "source": [
    "### Para começar um novo projeto com Django, veremos as opções que o framework nos oferece executando o comando \n",
    "```django-admin```"
   ]
  },
  {
   "cell_type": "code",
   "execution_count": null,
   "id": "6b933f43",
   "metadata": {},
   "outputs": [],
   "source": [
    "!django-admin"
   ]
  },
  {
   "cell_type": "markdown",
   "id": "9c7b08eb",
   "metadata": {},
   "source": [
    "### Vamos iniciar o nosso primeiro projeto Django"
   ]
  },
  {
   "cell_type": "code",
   "execution_count": null,
   "id": "8c0ab32e",
   "metadata": {},
   "outputs": [],
   "source": [
    "!django-admin startproject meuprojeto"
   ]
  },
  {
   "cell_type": "markdown",
   "id": "5c0137b2",
   "metadata": {},
   "source": [
    "### Para criarmos um main do projeto precisamos executar o comando\n",
    "```python manage.py startapp [nome do diretório]```"
   ]
  },
  {
   "cell_type": "markdown",
   "id": "9ab97a11",
   "metadata": {},
   "source": [
    "### Observe que um diretório com os arquivos admin, apps, models, tests e views foi criado\n",
    "\n",
    "### Vamos ver o nosso projeto rodando utilizando o comando\n",
    "```python manage.py runserver```"
   ]
  },
  {
   "cell_type": "markdown",
   "id": "09193180",
   "metadata": {},
   "source": [
    "### Agora precisamos alterar o arquivo url.py no diretório do projeto da seguinte forma"
   ]
  },
  {
   "cell_type": "code",
   "execution_count": null,
   "id": "497422e2",
   "metadata": {},
   "outputs": [],
   "source": [
    "from django.contrib import admin\n",
    "from django.urls import path, include\n",
    "\n",
    "urlpatterns = [\n",
    "    path('', include('main.urls')), #main é o nome do diretório criado no comando startapp\n",
    "    path('admin/', admin.site.urls),\n",
    "]"
   ]
  }
 ],
 "metadata": {
  "kernelspec": {
   "display_name": "Python 3",
   "language": "python",
   "name": "python3"
  },
  "language_info": {
   "codemirror_mode": {
    "name": "ipython",
    "version": 3
   },
   "file_extension": ".py",
   "mimetype": "text/x-python",
   "name": "python",
   "nbconvert_exporter": "python",
   "pygments_lexer": "ipython3",
   "version": "3.8.5"
  }
 },
 "nbformat": 4,
 "nbformat_minor": 5
}
