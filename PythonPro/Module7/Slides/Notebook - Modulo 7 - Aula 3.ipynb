{
 "cells": [
  {
   "cell_type": "markdown",
   "id": "3315b833",
   "metadata": {},
   "source": [
    "### Vamos criar as nossas consultas a base de dados no nosso arquivo models.py"
   ]
  },
  {
   "cell_type": "code",
   "execution_count": null,
   "id": "9da8cbbe",
   "metadata": {},
   "outputs": [],
   "source": [
    "from datetime import datetime as dt\n",
    "\n",
    "class ProjetoDjango(models.Model):\n",
    "    # Aqui definimos as colunas que teremos em nosso banco de dados\n",
    "    titulo = models.CharField(max_length=50)\n",
    "    descricao = models.TextField()\n",
    "    numero_de_modulos = models.DecimalFiels()\n",
    "    data = models.DateTimeField(\"Publicado em\", default=dt.now())"
   ]
  },
  {
   "cell_type": "markdown",
   "id": "5ffaa514",
   "metadata": {},
   "source": [
    "### Com esta classe nós definimos as colunas no nosso banco de dados\n",
    "\n",
    "### Agora precisamos adicionar a nossa aplicação ao parâmetro INSTALLED_APPS no arquivo settings.py"
   ]
  },
  {
   "cell_type": "code",
   "execution_count": null,
   "id": "106a0a47",
   "metadata": {},
   "outputs": [],
   "source": [
    "INSTALLED_APPS = [\n",
    "    'django.contrib.admin',\n",
    "    'django.contrib.auth',\n",
    "    'django.contrib.contenttypes',\n",
    "    'django.contrib.sessions',\n",
    "    'django.contrib.messages',\n",
    "    'django.contrib.staticfiles',\n",
    "    'main.apps.MainConfig'\n",
    "]"
   ]
  },
  {
   "cell_type": "markdown",
   "id": "6f1d9508",
   "metadata": {},
   "source": [
    "### Agora é necessário executar as nossas Migrations utilizando o comando"
   ]
  },
  {
   "cell_type": "code",
   "execution_count": null,
   "id": "3594857d",
   "metadata": {},
   "outputs": [],
   "source": [
    "!python3 manage.py makemigrations"
   ]
  },
  {
   "cell_type": "markdown",
   "id": "079f0aca",
   "metadata": {},
   "source": [
    "### Podemos verificar as Migrations geradas no diretório \"migrations\"\n",
    "### Para verificar o comando SQL executado o comando"
   ]
  },
  {
   "cell_type": "code",
   "execution_count": null,
   "id": "02868606",
   "metadata": {},
   "outputs": [],
   "source": [
    "!python3 manage.py sqlmigrate main 0001"
   ]
  },
  {
   "cell_type": "markdown",
   "id": "f7a8f844",
   "metadata": {},
   "source": [
    "### Agora precisamos executar as nossas migrations"
   ]
  },
  {
   "cell_type": "code",
   "execution_count": null,
   "id": "c892942f",
   "metadata": {},
   "outputs": [],
   "source": [
    "!python3 manage.py migrate"
   ]
  },
  {
   "cell_type": "markdown",
   "id": "0a6a25b3",
   "metadata": {},
   "source": [
    "### Para utilizar a tabela que criamos, vamos criar um usuário para o nosso projeto \n",
    "```python manage.py createsuperuser```\n",
    "### Agora você pode acessar a área de admin em http://127.0.0.1:8000/admin e inserir o seu usuário e senha\n",
    "### É necessário registrar os seus módulos para que eles sejam exibidos na área de admin.\n",
    "### Altere o arquivo admin.py em nosso projeto:"
   ]
  },
  {
   "cell_type": "code",
   "execution_count": null,
   "id": "b5026f13",
   "metadata": {},
   "outputs": [],
   "source": [
    "from django.contrib import admin\n",
    "from .models import ProjetoDjango\n",
    "\n",
    "# Register your models here.\n",
    "admin.site.register(ProjetoDjango)"
   ]
  }
 ],
 "metadata": {
  "kernelspec": {
   "display_name": "Python 3",
   "language": "python",
   "name": "python3"
  },
  "language_info": {
   "codemirror_mode": {
    "name": "ipython",
    "version": 3
   },
   "file_extension": ".py",
   "mimetype": "text/x-python",
   "name": "python",
   "nbconvert_exporter": "python",
   "pygments_lexer": "ipython3",
   "version": "3.8.5"
  }
 },
 "nbformat": 4,
 "nbformat_minor": 5
}
