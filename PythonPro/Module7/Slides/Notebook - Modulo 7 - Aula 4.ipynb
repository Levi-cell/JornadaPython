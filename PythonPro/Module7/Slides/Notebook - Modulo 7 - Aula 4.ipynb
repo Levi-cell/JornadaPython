{
 "cells": [
  {
   "cell_type": "markdown",
   "id": "a83fb69d",
   "metadata": {},
   "source": [
    "### Para construir a nossa página iremos desenvolver as nossas views\n",
    "### Por isso, vamos modificar o arquivo views.py da seguinte forma"
   ]
  },
  {
   "cell_type": "code",
   "execution_count": null,
   "id": "2ab7327d",
   "metadata": {},
   "outputs": [],
   "source": [
    "from django.shortcuts import render\n",
    "from .models import ProjetoDjango\n",
    "\n",
    "# Create your views here.\n",
    "def homepage(request):\n",
    "    return render(\n",
    "                    request=request,\n",
    "                    template_name=\"home.html\",\n",
    "                    context={\"cursos\": ProjetoDjango.objects.all}\n",
    "                )"
   ]
  },
  {
   "cell_type": "markdown",
   "id": "1462965a",
   "metadata": {},
   "source": [
    "### Agora vamos criar um novo diretório chamado templates onde iremos colocar todos os nossos templates\n",
    "### Vamos criar o nosso primeiro template para listar todos os cursos que nós cadastramos"
   ]
  },
  {
   "cell_type": "code",
   "execution_count": null,
   "id": "1268f8b3",
   "metadata": {},
   "outputs": [],
   "source": [
    "{% for each in cursos %}\n",
    "    <p>{{ each.titulo }}</p>\n",
    "    <p>{{ each.descricao }}</p>\n",
    "    <p>{{ each.numero_de_modulos }}</p>\n",
    "    <p>{{ each.data }}</p>\n",
    "\n",
    "    <br><br>\n",
    "{% endfor %}"
   ]
  },
  {
   "cell_type": "markdown",
   "id": "fc86caa2",
   "metadata": {},
   "source": [
    "### Podemos eliminar a impressão do objeto utilizando o magic method ```__str__``` no nosso arquivo models.py"
   ]
  },
  {
   "cell_type": "code",
   "execution_count": null,
   "id": "0bd8e9a0",
   "metadata": {},
   "outputs": [],
   "source": [
    "def __str__(self):\n",
    "    return self.titulo"
   ]
  },
  {
   "cell_type": "markdown",
   "id": "b5544b17",
   "metadata": {},
   "source": [
    "### Para acrescentar um estilo à nossa página, iremos incluir um template básico do Bootstrap, disponível em https://getbootstrap.com/docs/3.4/getting-started/\n",
    "### Também podemos inserir em algumas divs para deixar o texto organizado"
   ]
  },
  {
   "cell_type": "code",
   "execution_count": null,
   "id": "dafe20ae",
   "metadata": {},
   "outputs": [],
   "source": [
    "<div class=\"card text-center\">\n",
    "  {% for each in cursos %}\n",
    "  <div class=\"card-header\">\n",
    "    Cursos\n",
    "  </div>\n",
    "  <div class=\"card-body\">\n",
    "    <p class=\"card-text\">{{ each.titulo }}</p>\n",
    "    <p class=\"card-text\">{{ each.descricao }}</p>\n",
    "    <p class=\"card-text\">{{ each.numero_de_modulos }}</p>\n",
    "    <a href=\"#\" class=\"btn btn-primary\">Concluído</a>\n",
    "  </div>\n",
    "  <div class=\"card-footer text-muted\">\n",
    "    <p class=\"card-text\">{{ each.data }}</p>\n",
    "  </div>\n",
    "  {% endfor %}\n",
    "</div>"
   ]
  }
 ],
 "metadata": {
  "kernelspec": {
   "display_name": "Python 3",
   "language": "python",
   "name": "python3"
  },
  "language_info": {
   "codemirror_mode": {
    "name": "ipython",
    "version": 3
   },
   "file_extension": ".py",
   "mimetype": "text/x-python",
   "name": "python",
   "nbconvert_exporter": "python",
   "pygments_lexer": "ipython3",
   "version": "3.8.5"
  }
 },
 "nbformat": 4,
 "nbformat_minor": 5
}
