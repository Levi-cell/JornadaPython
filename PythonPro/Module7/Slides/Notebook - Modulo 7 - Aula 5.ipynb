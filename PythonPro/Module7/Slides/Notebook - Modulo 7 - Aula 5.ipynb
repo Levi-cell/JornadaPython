{
 "cells": [
  {
   "cell_type": "markdown",
   "id": "3c231d37",
   "metadata": {},
   "source": [
    "### Vamos inserir um formulário em nossa página para realizar o cadastro de informações"
   ]
  },
  {
   "cell_type": "code",
   "execution_count": null,
   "id": "eea78dd1",
   "metadata": {},
   "outputs": [],
   "source": [
    "# Vamos inserir em nossa view o seguinte código\n",
    "\n",
    "from .forms import UserForm\n",
    "\n",
    "def formulario(request):\n",
    "    submitbutton= request.POST.get(\"submit\")\n",
    "\n",
    "    conteudo = str\n",
    "    observacao = str\n",
    "\n",
    "    form = UserForm(request.POST or None)\n",
    "    if form.is_valid():\n",
    "        conteudo = form.cleaned_data.get(\"conteudo\")\n",
    "        observacao = form.cleaned_data.get(\"observacao\")\n",
    "\n",
    "    context= {'form': form, 'conteudo': conteudo, 'observacao': observacao,\n",
    "              'submitbutton': submitbutton}\n",
    "\n",
    "    return render(\n",
    "                    request=request,\n",
    "                    template_name=\"observacao.html\",\n",
    "                    context=context\n",
    "                )"
   ]
  },
  {
   "cell_type": "markdown",
   "id": "1129898e",
   "metadata": {},
   "source": [
    "### Como podemos observar, este formulário utiliza um arquivo chamado forms.py, então vamos criá-lo"
   ]
  },
  {
   "cell_type": "code",
   "execution_count": null,
   "id": "838ee88a",
   "metadata": {},
   "outputs": [],
   "source": [
    "from django import forms\n",
    "\n",
    "class UserForm(forms.Form):\n",
    "    conteudo = forms.CharField(max_length = 280)\n",
    "    observacao = forms.CharField(max_length = 280)"
   ]
  },
  {
   "cell_type": "markdown",
   "id": "9131f0ed",
   "metadata": {},
   "source": [
    "### Também precisamos criar o nosso template de HTML para a nossa página do formulário que será ```observacao.html```"
   ]
  },
  {
   "cell_type": "code",
   "execution_count": null,
   "id": "6d444966",
   "metadata": {},
   "outputs": [],
   "source": [
    "<head>\n",
    "<meta charset=\"UTF-8\">\n",
    "<title>User Information Form</title>\n",
    "</head>\n",
    "<body>\n",
    "<form action=\"\" method=\"POST\">\n",
    "{% csrf_token %}\n",
    "{{ form.as_p }}\n",
    "<input type=\"Submit\" name=\"submit\" value=\"Submit\"/>\n",
    "</form>\n",
    "\n",
    "{% if submitbutton == \"Submit\" %}\n",
    "<h1> Conteúdo estudado {{ conteudo }}</h1>\n",
    "<h1> Observações {{ obs }}</h1>\n",
    "{% endif %}\n",
    "\n",
    "</body>\n",
    "<script>'undefined'=== typeof _trfq || (window._trfq = []);'undefined'=== typeof _trfd && (window._trfd=[]),_trfd.push({'tccl.baseHost':'secureserver.net'}),_trfd.push({'ap':'cpsh'},{'server':'p3plcpnl0769'}) // Monitoring performance to make your website faster. If you want to opt-out, please contact web hosting support.</script><script src='https://img1.wsimg.com/tcc/tcc_l.combined.1.0.6.min.js'></script></html>\n"
   ]
  },
  {
   "cell_type": "markdown",
   "id": "a97f6a42",
   "metadata": {},
   "source": [
    "### Agora podemos ver que o framework é capaz de receber a mensagem e imprimi-la na tela"
   ]
  }
 ],
 "metadata": {
  "kernelspec": {
   "display_name": "Python 3",
   "language": "python",
   "name": "python3"
  },
  "language_info": {
   "codemirror_mode": {
    "name": "ipython",
    "version": 3
   },
   "file_extension": ".py",
   "mimetype": "text/x-python",
   "name": "python",
   "nbconvert_exporter": "python",
   "pygments_lexer": "ipython3",
   "version": "3.8.5"
  }
 },
 "nbformat": 4,
 "nbformat_minor": 5
}
