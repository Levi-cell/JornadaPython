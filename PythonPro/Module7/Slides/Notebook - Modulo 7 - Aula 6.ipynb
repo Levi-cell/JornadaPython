{
 "cells": [
  {
   "cell_type": "markdown",
   "id": "caa9a5ee",
   "metadata": {},
   "source": [
    "### Podemos acessar o banco de dados utilizando o ORM do Django\n",
    "### Para demonstrar, vamos acessar o shell do Django com o comando ```python manage.py shell```\n",
    "### No shell, vamos utilizar os seguintes comandos"
   ]
  },
  {
   "cell_type": "code",
   "execution_count": null,
   "id": "e0d57185",
   "metadata": {},
   "outputs": [],
   "source": [
    "from main.models import ProjetoDjango as pd\n",
    "from datetime import datetime as dt\n",
    "\n",
    "pd(titulo = \"titulo\", descricao = \"descricao\", numero_de_modulos = 0, data = dt.now()).save()"
   ]
  },
  {
   "cell_type": "markdown",
   "id": "0a4b99bc",
   "metadata": {},
   "source": [
    "### Estas são algumas funções que o nosso objeto nos oferece"
   ]
  },
  {
   "cell_type": "code",
   "execution_count": null,
   "id": "b5bf8df8",
   "metadata": {},
   "outputs": [],
   "source": [
    "# filter\n",
    "pd.objects.filter(titulo=\"teste\")\n",
    "\n",
    "# excluir\n",
    "pd.objects.exclude(titulo=\"teste\")\n",
    "\n",
    "# get\n",
    "pd.objects.get(pk=1)\n",
    "\n",
    "# alterar\n",
    "curso = pd.objects.filter(titulo=\"teste\")\n",
    "curso.descricao = \"show de bola\"\n",
    "curso.save()\n",
    "\n",
    "# Usar SQL\n",
    "[print(p) for p in pd.objects.raw(\"select 1 id, titulo from main_ProjetoDjango\")]\n",
    "\n",
    "# deletar\n",
    "pd.objects.filter(titulo=\"teste\").delete()\n",
    "\n",
    "# para ver a query utilizada basta dar um print no objeto retornado"
   ]
  }
 ],
 "metadata": {
  "kernelspec": {
   "display_name": "Python 3",
   "language": "python",
   "name": "python3"
  },
  "language_info": {
   "codemirror_mode": {
    "name": "ipython",
    "version": 3
   },
   "file_extension": ".py",
   "mimetype": "text/x-python",
   "name": "python",
   "nbconvert_exporter": "python",
   "pygments_lexer": "ipython3",
   "version": "3.8.5"
  }
 },
 "nbformat": 4,
 "nbformat_minor": 5
}
