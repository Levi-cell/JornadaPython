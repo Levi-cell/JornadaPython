{
 "cells": [
  {
   "cell_type": "markdown",
   "id": "cb908976",
   "metadata": {},
   "source": [
    "### Existem diversas formas de conectarmos em nosso servidor EC2. \n",
    "### Uma das ferramentas mais conhecidas para realizar esta conexão é o PuTTy\n",
    "### Para exercitar, vamos utilizar a linha de comando com a conexão ssh\n",
    "### Primeiramente precisamos dar permissão de acesso para a chave ssh que baixamos"
   ]
  },
  {
   "cell_type": "code",
   "execution_count": null,
   "id": "daf432fe",
   "metadata": {},
   "outputs": [],
   "source": [
    "sudo chmod 600 [caminho/nome da chave.pem]"
   ]
  },
  {
   "cell_type": "markdown",
   "id": "15f03dd5",
   "metadata": {},
   "source": [
    "### Agora faremos a conexão utilizando o comando ssh "
   ]
  },
  {
   "cell_type": "code",
   "execution_count": null,
   "id": "48feb06d",
   "metadata": {},
   "outputs": [],
   "source": [
    "ssh -i [caminho/nome da chave.pem] [usuário]@[endereço do servidor]"
   ]
  },
  {
   "cell_type": "markdown",
   "id": "9230e536",
   "metadata": {},
   "source": [
    "### Pronto simples assim!\n",
    "### Agora vamos verificar as configurações de segurança do nosso servidor\n",
    "### Depois de verificar as configurações de segurança, vamos transferir o nosso projeto utilizando o scp"
   ]
  },
  {
   "cell_type": "code",
   "execution_count": null,
   "id": "3f38f308",
   "metadata": {},
   "outputs": [],
   "source": [
    "scp -i [caminho/nome da chave.pem] -r [diretório do projeto] [usuário]@[endereço do servidor]:[caminho]"
   ]
  }
 ],
 "metadata": {
  "kernelspec": {
   "display_name": "Python 3",
   "language": "python",
   "name": "python3"
  },
  "language_info": {
   "codemirror_mode": {
    "name": "ipython",
    "version": 3
   },
   "file_extension": ".py",
   "mimetype": "text/x-python",
   "name": "python",
   "nbconvert_exporter": "python",
   "pygments_lexer": "ipython3",
   "version": "3.8.5"
  }
 },
 "nbformat": 4,
 "nbformat_minor": 5
}
