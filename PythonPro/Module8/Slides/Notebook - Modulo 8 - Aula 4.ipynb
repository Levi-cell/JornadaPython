{
 "cells": [
  {
   "cell_type": "markdown",
   "id": "fa275244",
   "metadata": {},
   "source": [
    "### Para começar precisamos instalar o cliente da AWS e a biblioteca BOTO3"
   ]
  },
  {
   "cell_type": "code",
   "execution_count": null,
   "id": "ec4aecd7",
   "metadata": {},
   "outputs": [],
   "source": [
    "!pip3 install awscli"
   ]
  },
  {
   "cell_type": "code",
   "execution_count": null,
   "id": "c068d813",
   "metadata": {},
   "outputs": [],
   "source": [
    "!pip3 install boto3"
   ]
  },
  {
   "cell_type": "markdown",
   "id": "37c496c6",
   "metadata": {},
   "source": [
    "### Agora precisamos criar uma identidade na AWS\n",
    "### Após termos a identidade criada, precisamos cadastra as nossas chaves no cliente AWS com o seguinte comando"
   ]
  },
  {
   "cell_type": "code",
   "execution_count": null,
   "id": "480e59b0",
   "metadata": {},
   "outputs": [],
   "source": [
    "!aws configure"
   ]
  },
  {
   "cell_type": "code",
   "execution_count": null,
   "id": "93b449c7",
   "metadata": {},
   "outputs": [],
   "source": [
    "from boto3 import resource, client"
   ]
  },
  {
   "cell_type": "code",
   "execution_count": null,
   "id": "97d06b6e",
   "metadata": {},
   "outputs": [],
   "source": [
    "ec2 = resource(\"ec2\", region_name=\"us-east-2\")"
   ]
  },
  {
   "cell_type": "code",
   "execution_count": null,
   "id": "a9c72dc5",
   "metadata": {},
   "outputs": [],
   "source": [
    "# create EC2 instance\n",
    "ec2.create_instances(ImageId=\"ami-00399ec92321828f5\", InstanceType=\"t2.micro\", MinCount=1, MaxCount=1)"
   ]
  },
  {
   "cell_type": "code",
   "execution_count": null,
   "id": "fc6bd0a5",
   "metadata": {},
   "outputs": [],
   "source": [
    "# get instances info\n",
    "ec2.meta.client.describe_instance_status()"
   ]
  },
  {
   "cell_type": "code",
   "execution_count": null,
   "id": "1289f9e5",
   "metadata": {},
   "outputs": [],
   "source": [
    "# get instance complete info\n",
    "aws = client(\"ec2\", region_name=\"us-east-2\")\n",
    "aws.describe_instances()"
   ]
  },
  {
   "cell_type": "code",
   "execution_count": null,
   "id": "e23b97e9",
   "metadata": {},
   "outputs": [],
   "source": [
    "# stop instance\n",
    "ec2.instances.filter(InstanceIds=['i-07a6c70f36ac5c3e1']).stop()"
   ]
  },
  {
   "cell_type": "code",
   "execution_count": null,
   "id": "7ef09a31",
   "metadata": {},
   "outputs": [],
   "source": [
    "# terminate instance\n",
    "ec2.instances.filter(InstanceIds=['i-07a6c70f36ac5c3e1']).terminate()"
   ]
  }
 ],
 "metadata": {
  "kernelspec": {
   "display_name": "Python 3",
   "language": "python",
   "name": "python3"
  },
  "language_info": {
   "codemirror_mode": {
    "name": "ipython",
    "version": 3
   },
   "file_extension": ".py",
   "mimetype": "text/x-python",
   "name": "python",
   "nbconvert_exporter": "python",
   "pygments_lexer": "ipython3",
   "version": "3.8.5"
  }
 },
 "nbformat": 4,
 "nbformat_minor": 5
}
