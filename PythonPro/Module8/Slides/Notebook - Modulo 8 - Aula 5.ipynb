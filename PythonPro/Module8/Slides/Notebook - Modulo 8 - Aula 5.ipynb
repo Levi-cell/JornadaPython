{
 "cells": [
  {
   "cell_type": "markdown",
   "id": "c7b695b7",
   "metadata": {},
   "source": [
    "### Uma alternativa ao BOTO3 é o Troposphere"
   ]
  },
  {
   "cell_type": "code",
   "execution_count": null,
   "id": "d060ebf2",
   "metadata": {},
   "outputs": [],
   "source": [
    "from troposphere import Ref, Template, ec2"
   ]
  },
  {
   "cell_type": "code",
   "execution_count": null,
   "id": "20473eb2",
   "metadata": {},
   "outputs": [],
   "source": [
    "template = Template()\n",
    "\n",
    "instancia = ec2.Instance(\n",
    "    \"pythonproserver\", \n",
    "    ImageId=\"ami-00399ec92321828f5\", \n",
    "    InstanceType=\"t2.micro\"\n",
    ")\n",
    "\n",
    "template.add_resource(instancia)"
   ]
  },
  {
   "cell_type": "markdown",
   "id": "6757bea3",
   "metadata": {},
   "source": [
    "### Nada aconteceu?\n",
    "\n",
    "### Sim, esta biblioteca gera arquivos com parâmetros para serem seguidos por aplicações de gerenciamento de serviços na nuvem como o AWS CloudFormation e o Terraform"
   ]
  },
  {
   "cell_type": "code",
   "execution_count": null,
   "id": "d595b85b",
   "metadata": {},
   "outputs": [],
   "source": [
    "from pprint import pprint\n",
    "\n",
    "pprint(template.to_yaml())"
   ]
  },
  {
   "cell_type": "code",
   "execution_count": null,
   "id": "2cda281c",
   "metadata": {},
   "outputs": [],
   "source": [
    "pprint(template.to_json())"
   ]
  }
 ],
 "metadata": {
  "kernelspec": {
   "display_name": "Python 3",
   "language": "python",
   "name": "python3"
  },
  "language_info": {
   "codemirror_mode": {
    "name": "ipython",
    "version": 3
   },
   "file_extension": ".py",
   "mimetype": "text/x-python",
   "name": "python",
   "nbconvert_exporter": "python",
   "pygments_lexer": "ipython3",
   "version": "3.8.5"
  }
 },
 "nbformat": 4,
 "nbformat_minor": 5
}
