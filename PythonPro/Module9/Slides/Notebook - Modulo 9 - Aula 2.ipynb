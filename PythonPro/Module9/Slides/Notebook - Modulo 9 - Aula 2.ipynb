{
 "cells": [
  {
   "cell_type": "markdown",
   "id": "918e36e2",
   "metadata": {},
   "source": [
    "### Para criar o nosso primeiro algoritmo assíncrono, vamos primeiramente criar uma função que realiza uma operação matemática simples e possui um delay configurado para retornar a resposta"
   ]
  },
  {
   "cell_type": "code",
   "execution_count": 1,
   "id": "f65130c2",
   "metadata": {},
   "outputs": [],
   "source": [
    "from time import time, sleep"
   ]
  },
  {
   "cell_type": "code",
   "execution_count": 18,
   "id": "2aa1288b",
   "metadata": {},
   "outputs": [],
   "source": [
    "def quadrado_do_numero(valor, delay):\n",
    "    sleep(delay)\n",
    "    print(valor ** 2)"
   ]
  },
  {
   "cell_type": "markdown",
   "id": "1c0365e4",
   "metadata": {},
   "source": [
    "### Executando o código obtemos o seguinte resultado"
   ]
  },
  {
   "cell_type": "code",
   "execution_count": 3,
   "id": "ff3fc970",
   "metadata": {},
   "outputs": [
    {
     "name": "stdout",
     "output_type": "stream",
     "text": [
      "4\n",
      "25\n",
      "9\n",
      "Tempo total para execução: 7 segundos\n"
     ]
    }
   ],
   "source": [
    "inicio = time()\n",
    "quadrado_do_numero(2,4)\n",
    "quadrado_do_numero(5,1)\n",
    "quadrado_do_numero(3,2)\n",
    "termino = time()\n",
    "print(f\"Tempo total para execução: {abs(int(inicio - termino))} segundos\")"
   ]
  },
  {
   "cell_type": "markdown",
   "id": "467a9048",
   "metadata": {},
   "source": [
    "### Agora vamos transformar a nossa função em uma função assíncrona com processamento concorrente. Para isso precisamos declarar novamente a nossa função sinalizando que agora ela é uma função assíncrona."
   ]
  },
  {
   "cell_type": "code",
   "execution_count": 4,
   "id": "5882e0d7",
   "metadata": {},
   "outputs": [],
   "source": [
    "from threading import Thread"
   ]
  },
  {
   "cell_type": "code",
   "execution_count": 5,
   "id": "3612db01",
   "metadata": {},
   "outputs": [
    {
     "name": "stdout",
     "output_type": "stream",
     "text": [
      "25\n",
      "9\n",
      "4\n",
      "Tempo total para execução: 4 segundos\n"
     ]
    }
   ],
   "source": [
    "inicio = time()\n",
    "\n",
    "resultado1 = Thread(target=quadrado_do_numero, args=[2, 4])\n",
    "resultado2 = Thread(target=quadrado_do_numero, args=[5, 1])\n",
    "resultado3 = Thread(target=quadrado_do_numero, args=[3, 2])\n",
    "\n",
    "resultado1.start()\n",
    "resultado2.start()\n",
    "resultado3.start()\n",
    "\n",
    "resultado1.join()\n",
    "resultado2.join()\n",
    "resultado3.join()\n",
    "\n",
    "termino = time()\n",
    "print(f\"Tempo total para execução: {abs(int(inicio - termino))} segundos\")"
   ]
  },
  {
   "cell_type": "markdown",
   "id": "107371b0",
   "metadata": {},
   "source": [
    "### Podemos obter o mesmo resultado utilizando as futures, porém com uma sintaxe muito mais simples"
   ]
  },
  {
   "cell_type": "code",
   "execution_count": 6,
   "id": "39cab4e5",
   "metadata": {},
   "outputs": [],
   "source": [
    "from concurrent import futures"
   ]
  },
  {
   "cell_type": "code",
   "execution_count": 20,
   "id": "b1677a6e",
   "metadata": {},
   "outputs": [
    {
     "name": "stdout",
     "output_type": "stream",
     "text": [
      "25\n",
      "9\n",
      "4\n",
      "Tempo total para execução: 4 segundos\n"
     ]
    }
   ],
   "source": [
    "inicio = time()\n",
    "\n",
    "with futures.ProcessPoolExecutor() as executor:\n",
    "    [e for e in executor.map(quadrado_do_numero, (2, 5, 3), (4, 1, 2))]\n",
    "\n",
    "termino = time()\n",
    "print(f\"Tempo total para execução: {abs(int(inicio - termino))} segundos\")"
   ]
  }
 ],
 "metadata": {
  "kernelspec": {
   "display_name": "Python 3",
   "language": "python",
   "name": "python3"
  },
  "language_info": {
   "codemirror_mode": {
    "name": "ipython",
    "version": 3
   },
   "file_extension": ".py",
   "mimetype": "text/x-python",
   "name": "python",
   "nbconvert_exporter": "python",
   "pygments_lexer": "ipython3",
   "version": "3.7.10"
  }
 },
 "nbformat": 4,
 "nbformat_minor": 5
}
