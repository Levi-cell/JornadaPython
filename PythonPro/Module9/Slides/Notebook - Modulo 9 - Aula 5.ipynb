{
 "cells": [
  {
   "cell_type": "markdown",
   "id": "6c5b1591",
   "metadata": {},
   "source": [
    "### Vamos começar criando em exemplo simples"
   ]
  },
  {
   "cell_type": "code",
   "execution_count": null,
   "id": "132a4e8a",
   "metadata": {},
   "outputs": [],
   "source": [
    "from multiprocessing import Process"
   ]
  },
  {
   "cell_type": "code",
   "execution_count": null,
   "id": "0c673f64",
   "metadata": {},
   "outputs": [],
   "source": [
    "def test(ordem):\n",
    "    print(ordem)"
   ]
  },
  {
   "cell_type": "code",
   "execution_count": null,
   "id": "dd94abd8",
   "metadata": {},
   "outputs": [],
   "source": [
    "for i in range(5):\n",
    "    p = Process(target=test, args=(i,))\n",
    "    p.start()"
   ]
  },
  {
   "cell_type": "markdown",
   "id": "adcfae81",
   "metadata": {},
   "source": [
    "### Vamos verificar quantas CPUs este computador possui para processar os algoritmos"
   ]
  },
  {
   "cell_type": "code",
   "execution_count": null,
   "id": "aed2b526",
   "metadata": {},
   "outputs": [],
   "source": [
    "from multiprocessing import cpu_count\n",
    "\n",
    "cpu_count()"
   ]
  },
  {
   "cell_type": "markdown",
   "id": "a1c63851",
   "metadata": {},
   "source": [
    "### Vamos agora criar uma fila de execução para os processos"
   ]
  },
  {
   "cell_type": "code",
   "execution_count": null,
   "id": "63d6417a",
   "metadata": {},
   "outputs": [],
   "source": [
    "from multiprocessing import Queue"
   ]
  },
  {
   "cell_type": "code",
   "execution_count": null,
   "id": "f228379b",
   "metadata": {},
   "outputs": [],
   "source": [
    "queue = Queue()\n",
    "\n",
    "[queue.put(n) for n in [1, 2, 3, 4, 5, 6, 7, 8, 9]]\n",
    "\n",
    "while not queue.empty():\n",
    "    print(queue.get())\n",
    "    pass"
   ]
  },
  {
   "cell_type": "markdown",
   "id": "1764444f",
   "metadata": {},
   "source": [
    "### Utilizando um pool de tarefas para serem processadas"
   ]
  },
  {
   "cell_type": "code",
   "execution_count": null,
   "id": "91474d2d",
   "metadata": {},
   "outputs": [],
   "source": [
    "from multiprocessing import Pool\n",
    "from time import sleep\n",
    "\n",
    "def work_log(each):\n",
    "    print(f\"Process {each[0]} waiting {each[1]} seconds\")\n",
    "    sleep(int(each[1]))\n",
    "    print(f\"Process {each[0]} Finished.\")\n",
    "\n",
    "pool = Pool(2)\n",
    "pool.map(work_log, ([\"A\", 5], [\"B\", 2], [\"C\", 1], [\"D\", 3]))\n",
    "pass"
   ]
  },
  {
   "cell_type": "markdown",
   "id": "d1e9e61d",
   "metadata": {},
   "source": [
    "### Agora vamos criar um pool de requisições para realizar um web scraping"
   ]
  },
  {
   "cell_type": "code",
   "execution_count": null,
   "id": "94b4eb79",
   "metadata": {},
   "outputs": [],
   "source": [
    "from multiprocessing import Pool\n",
    "from requests import get\n",
    "    \n",
    "def scraper(url):\n",
    "    res = get(url)\n",
    "    I_got_a = res.json()\n",
    "    print(I_got_a[\"name\"], I_got_a[\"id\"])\n",
    "\n",
    "urls = [f\"https://pokeapi.co/api/v2/pokemon/{pokemon}\" for pokemon in range(1, 501)]\n",
    "\n",
    "p = Pool(20)\n",
    "p.map(scraper, urls)\n",
    "p.terminate()\n",
    "p.join()"
   ]
  }
 ],
 "metadata": {
  "kernelspec": {
   "display_name": "Python 3",
   "language": "python",
   "name": "python3"
  },
  "language_info": {
   "codemirror_mode": {
    "name": "ipython",
    "version": 3
   },
   "file_extension": ".py",
   "mimetype": "text/x-python",
   "name": "python",
   "nbconvert_exporter": "python",
   "pygments_lexer": "ipython3",
   "version": "3.7.10"
  }
 },
 "nbformat": 4,
 "nbformat_minor": 5
}
