{
 "cells": [
  {
   "cell_type": "code",
   "execution_count": 35,
   "id": "60d762b7",
   "metadata": {},
   "outputs": [],
   "source": [
    "# importando bibliotecas\n",
    "\n",
    "import matplotlib.pyplot as plt\n",
    "from sklearn import datasets, svm, metrics\n",
    "\n",
    "# importando a funcao de treino e teste\n",
    "from sklearn.model_selection import train_test_split"
   ]
  },
  {
   "cell_type": "code",
   "execution_count": 36,
   "id": "214e2a08",
   "metadata": {},
   "outputs": [],
   "source": [
    "# importando o mnist dataset\n",
    "\n",
    "digits = datasets.load_digits()\n",
    "\n"
   ]
  },
  {
   "cell_type": "code",
   "execution_count": 37,
   "id": "5fac3fd3",
   "metadata": {},
   "outputs": [],
   "source": [
    "# achatamento de imagem e transformando a matriz em vetor\n",
    "\n",
    "n_sample = len(digits.images)\n",
    "data = digits.images.reshape((n_sample, -1))"
   ]
  },
  {
   "cell_type": "code",
   "execution_count": 106,
   "id": "6ba92781",
   "metadata": {},
   "outputs": [],
   "source": [
    "# classificador\n",
    "\n",
    "clf = svm.SVC(gamma=0.001)\n"
   ]
  },
  {
   "cell_type": "code",
   "execution_count": 107,
   "id": "936a106d",
   "metadata": {},
   "outputs": [],
   "source": [
    "# dividindo a data em 80/20 treino teste\n",
    "\n",
    "X_train, X_test, y_train, y_test = train_test_split(data, digits.target, test_size=0.2, shuffle=False)\n"
   ]
  },
  {
   "cell_type": "code",
   "execution_count": 108,
   "id": "abecf223",
   "metadata": {},
   "outputs": [
    {
     "data": {
      "text/html": [
       "<style>#sk-container-id-16 {color: black;background-color: white;}#sk-container-id-16 pre{padding: 0;}#sk-container-id-16 div.sk-toggleable {background-color: white;}#sk-container-id-16 label.sk-toggleable__label {cursor: pointer;display: block;width: 100%;margin-bottom: 0;padding: 0.3em;box-sizing: border-box;text-align: center;}#sk-container-id-16 label.sk-toggleable__label-arrow:before {content: \"▸\";float: left;margin-right: 0.25em;color: #696969;}#sk-container-id-16 label.sk-toggleable__label-arrow:hover:before {color: black;}#sk-container-id-16 div.sk-estimator:hover label.sk-toggleable__label-arrow:before {color: black;}#sk-container-id-16 div.sk-toggleable__content {max-height: 0;max-width: 0;overflow: hidden;text-align: left;background-color: #f0f8ff;}#sk-container-id-16 div.sk-toggleable__content pre {margin: 0.2em;color: black;border-radius: 0.25em;background-color: #f0f8ff;}#sk-container-id-16 input.sk-toggleable__control:checked~div.sk-toggleable__content {max-height: 200px;max-width: 100%;overflow: auto;}#sk-container-id-16 input.sk-toggleable__control:checked~label.sk-toggleable__label-arrow:before {content: \"▾\";}#sk-container-id-16 div.sk-estimator input.sk-toggleable__control:checked~label.sk-toggleable__label {background-color: #d4ebff;}#sk-container-id-16 div.sk-label input.sk-toggleable__control:checked~label.sk-toggleable__label {background-color: #d4ebff;}#sk-container-id-16 input.sk-hidden--visually {border: 0;clip: rect(1px 1px 1px 1px);clip: rect(1px, 1px, 1px, 1px);height: 1px;margin: -1px;overflow: hidden;padding: 0;position: absolute;width: 1px;}#sk-container-id-16 div.sk-estimator {font-family: monospace;background-color: #f0f8ff;border: 1px dotted black;border-radius: 0.25em;box-sizing: border-box;margin-bottom: 0.5em;}#sk-container-id-16 div.sk-estimator:hover {background-color: #d4ebff;}#sk-container-id-16 div.sk-parallel-item::after {content: \"\";width: 100%;border-bottom: 1px solid gray;flex-grow: 1;}#sk-container-id-16 div.sk-label:hover label.sk-toggleable__label {background-color: #d4ebff;}#sk-container-id-16 div.sk-serial::before {content: \"\";position: absolute;border-left: 1px solid gray;box-sizing: border-box;top: 0;bottom: 0;left: 50%;z-index: 0;}#sk-container-id-16 div.sk-serial {display: flex;flex-direction: column;align-items: center;background-color: white;padding-right: 0.2em;padding-left: 0.2em;position: relative;}#sk-container-id-16 div.sk-item {position: relative;z-index: 1;}#sk-container-id-16 div.sk-parallel {display: flex;align-items: stretch;justify-content: center;background-color: white;position: relative;}#sk-container-id-16 div.sk-item::before, #sk-container-id-16 div.sk-parallel-item::before {content: \"\";position: absolute;border-left: 1px solid gray;box-sizing: border-box;top: 0;bottom: 0;left: 50%;z-index: -1;}#sk-container-id-16 div.sk-parallel-item {display: flex;flex-direction: column;z-index: 1;position: relative;background-color: white;}#sk-container-id-16 div.sk-parallel-item:first-child::after {align-self: flex-end;width: 50%;}#sk-container-id-16 div.sk-parallel-item:last-child::after {align-self: flex-start;width: 50%;}#sk-container-id-16 div.sk-parallel-item:only-child::after {width: 0;}#sk-container-id-16 div.sk-dashed-wrapped {border: 1px dashed gray;margin: 0 0.4em 0.5em 0.4em;box-sizing: border-box;padding-bottom: 0.4em;background-color: white;}#sk-container-id-16 div.sk-label label {font-family: monospace;font-weight: bold;display: inline-block;line-height: 1.2em;}#sk-container-id-16 div.sk-label-container {text-align: center;}#sk-container-id-16 div.sk-container {/* jupyter's `normalize.less` sets `[hidden] { display: none; }` but bootstrap.min.css set `[hidden] { display: none !important; }` so we also need the `!important` here to be able to override the default hidden behavior on the sphinx rendered scikit-learn.org. See: https://github.com/scikit-learn/scikit-learn/issues/21755 */display: inline-block !important;position: relative;}#sk-container-id-16 div.sk-text-repr-fallback {display: none;}</style><div id=\"sk-container-id-16\" class=\"sk-top-container\"><div class=\"sk-text-repr-fallback\"><pre>SVC(gamma=0.001)</pre><b>In a Jupyter environment, please rerun this cell to show the HTML representation or trust the notebook. <br />On GitHub, the HTML representation is unable to render, please try loading this page with nbviewer.org.</b></div><div class=\"sk-container\" hidden><div class=\"sk-item\"><div class=\"sk-estimator sk-toggleable\"><input class=\"sk-toggleable__control sk-hidden--visually\" id=\"sk-estimator-id-16\" type=\"checkbox\" checked><label for=\"sk-estimator-id-16\" class=\"sk-toggleable__label sk-toggleable__label-arrow\">SVC</label><div class=\"sk-toggleable__content\"><pre>SVC(gamma=0.001)</pre></div></div></div></div></div>"
      ],
      "text/plain": [
       "SVC(gamma=0.001)"
      ]
     },
     "execution_count": 108,
     "metadata": {},
     "output_type": "execute_result"
    }
   ],
   "source": [
    "# Treinamento do modelo\n",
    "\n",
    "clf.fit(X_train, y_train)"
   ]
  },
  {
   "cell_type": "code",
   "execution_count": 109,
   "id": "bc7a7bc7",
   "metadata": {},
   "outputs": [],
   "source": [
    "# prever o valor do digito no teste\n",
    "\n",
    "predicted = clf.predict(X_test)"
   ]
  },
  {
   "cell_type": "code",
   "execution_count": 111,
   "id": "1df49277",
   "metadata": {},
   "outputs": [
    {
     "name": "stdout",
     "output_type": "stream",
     "text": [
      "Relatorio de classificacao para o classificador SVC(gamma=0.001):\n",
      "              precision    recall  f1-score   support\n",
      "\n",
      "           0       1.00      0.97      0.99        35\n",
      "           1       0.97      1.00      0.99        36\n",
      "           2       1.00      1.00      1.00        35\n",
      "           3       0.97      0.81      0.88        37\n",
      "           4       0.97      0.92      0.94        37\n",
      "           5       0.93      1.00      0.96        37\n",
      "           6       1.00      1.00      1.00        37\n",
      "           7       0.97      1.00      0.99        36\n",
      "           8       0.84      0.94      0.89        33\n",
      "           9       0.95      0.95      0.95        37\n",
      "\n",
      "    accuracy                           0.96       360\n",
      "   macro avg       0.96      0.96      0.96       360\n",
      "weighted avg       0.96      0.96      0.96       360\n",
      "\n",
      "\n"
     ]
    }
   ],
   "source": [
    "# prever a taxa de porcentagem de acerto\n",
    "\n",
    "print(f'Relatorio de classificacao para o classificador {clf}:\\n'\n",
    "     f'{metrics.classification_report(y_test, predicted)}\\n')"
   ]
  },
  {
   "cell_type": "code",
   "execution_count": 112,
   "id": "54e40e3e",
   "metadata": {},
   "outputs": [
    {
     "name": "stdout",
     "output_type": "stream",
     "text": [
      "{'n_estimators': 100, 'min_samples_split': 5, 'min_samples_leaf': 1, 'max_depth': 10}\n"
     ]
    }
   ],
   "source": [
    "#Usando o random search para aprimorar o resultado do modelo\n",
    "\n",
    "from sklearn.model_selection import RandomizedSearchCV\n",
    "from sklearn.ensemble import RandomForestClassifier\n",
    "\n",
    "param_grid = {\n",
    "    'n_estimators': [100, 200, 300],\n",
    "    'max_depth': [None, 5, 10],\n",
    "    'min_samples_split': [2, 5, 10],\n",
    "    'min_samples_leaf': [1, 2, 4]\n",
    "}\n",
    "\n",
    "clf = RandomForestClassifier()\n",
    "random_search = RandomizedSearchCV(clf, param_distributions=param_grid, n_iter=10)\n",
    "\n",
    "random_search.fit(X_train, y_train)\n",
    "\n",
    "print(random_search.best_params_)\n"
   ]
  },
  {
   "cell_type": "code",
   "execution_count": 17,
   "id": "518f634a",
   "metadata": {},
   "outputs": [
    {
     "name": "stdout",
     "output_type": "stream",
     "text": [
      "{'max_depth': 10, 'min_samples_leaf': 1, 'min_samples_split': 2, 'n_estimators': 200}\n"
     ]
    }
   ],
   "source": [
    "# Usando o grid search para escolher os melhores parametros\n",
    "\n",
    "from sklearn.model_selection import GridSearchCV\n",
    "from sklearn.ensemble import RandomForestClassifier\n",
    "\n",
    "param_grid = {\n",
    "    'n_estimators': [100, 200, 300],\n",
    "    'max_depth': [None, 5, 10],\n",
    "    'min_samples_split': [2, 5, 10],\n",
    "    'min_samples_leaf': [1, 2, 4]\n",
    "}\n",
    "\n",
    "clf = RandomForestClassifier()\n",
    "grid_search = GridSearchCV(clf, param_grid=param_grid)\n",
    "\n",
    "grid_search.fit(X_train, y_train)\n",
    "\n",
    "print(grid_search.best_params_)\n"
   ]
  },
  {
   "cell_type": "code",
   "execution_count": 42,
   "id": "6aa7b1c1",
   "metadata": {},
   "outputs": [
    {
     "data": {
      "image/png": "[encoded data removed]",
      "text/plain": [
       "<Figure size 640x480 with 2 Axes>"
      ]
     },
     "metadata": {},
     "output_type": "display_data"
    }
   ],
   "source": [
    "\n",
    "from sklearn.metrics import confusion_matrix\n",
    "import seaborn as sns\n",
    "import matplotlib.pyplot as plt\n",
    "\n",
    "# Avaliando o modelo e calculando a matriz de confusão\n",
    "y_pred = clf.predict(X_test)\n",
    "cm = confusion_matrix(y_test, y_pred)\n",
    "\n",
    "# Plotando a matriz de confusão usando seaborn\n",
    "sns.heatmap(cm, annot=True, cmap=\"Blues\", fmt=\"d\")\n",
    "plt.title('Matriz de Confusão')\n",
    "plt.xlabel('Valor Previsto')\n",
    "plt.ylabel('Valor Real')\n",
    "plt.show()\n",
    "\n"
   ]
  },
  {
   "cell_type": "code",
   "execution_count": 44,
   "id": "2bf84832",
   "metadata": {},
   "outputs": [
    {
     "name": "stdout",
     "output_type": "stream",
     "text": [
      "Acurácia média: 0.945034843205575\n",
      "Desvio padrão: 0.014775168214957692\n"
     ]
    }
   ],
   "source": [
    "# Usando Cross Validation\n",
    "\n",
    "from sklearn.model_selection import cross_val_score, KFold\n",
    "from sklearn.ensemble import RandomForestClassifier\n",
    "\n",
    "# Criando o classificador\n",
    "clf = RandomForestClassifier()\n",
    "\n",
    "# Definindo os dados de entrada X e os rótulos y\n",
    "\n",
    "# Criando o objeto KFold para k=5\n",
    "kfold = KFold(n_splits=5)\n",
    "\n",
    "# Realizando a validação cruzada\n",
    "scores = cross_val_score(clf, X_train, y_train, cv=kfold)\n",
    "\n",
    "# Imprimindo os resultados\n",
    "print(\"Acurácia média:\", scores.mean())\n",
    "print(\"Desvio padrão:\", scores.std())\n"
   ]
  },
  {
   "cell_type": "markdown",
   "id": "fc8e9435",
   "metadata": {},
   "source": [
    "# exercicio 02"
   ]
  },
  {
   "cell_type": "code",
   "execution_count": 113,
   "id": "5153c577",
   "metadata": {},
   "outputs": [
    {
     "name": "stdout",
     "output_type": "stream",
     "text": [
      "Acurácia: 0.9583333333333334\n"
     ]
    }
   ],
   "source": [
    "# Calculando a acuracia\n",
    "\n",
    "from sklearn.metrics import accuracy_score\n",
    "\n",
    "accuracy = accuracy_score(y_test, predicted)\n",
    "print(f'Acurácia: {accuracy}')\n"
   ]
  },
  {
   "cell_type": "markdown",
   "id": "ebe3e760",
   "metadata": {},
   "source": [
    "1 - Qual a acurácia do modelo e justifique:\n",
    "\n",
    "- A acuracia do modelo pode variar conforme a divisao da porcentagem de treino e teste, mas nesse caso do exercicio proposto a acuracia do modelo e de aprox 0.95% o que pode ser considerada alta, isso por que o modelo esta usando o algoritimo SVM que e muito eficaz para classificar os dados manuscritos assim como o MNIST, mas alem da acuracia sempre deve se observar outras metricas tambem para melhor avaliar o modelo\n",
    "\n",
    "2 - O modelo teve uma boa performance? Justifique:\n",
    "\n",
    "- Com base na acuracia obtida podemos dizer que o modelo teve uma boa performance, pois alem da acuracia o modelo apresenta bons resultados no recal, f1 e precision assim no geral ele obteve um bom desempenho\n",
    "\n",
    "3 - Quais foram os melhores parâmetros escolhidos? Justifique:\n",
    "\n",
    "- o parâmetro gamma foi definido como 0.001 para o classificador SVC. A escolha do valor 0.001 foi determinada por experimentação mas podendo ser tambem determinada por otimizacao de hiperparametros, os melhores parâmetros podem variar dependendo do conjunto de dados e do problema específico. Em algumas situações, pode ser necessário realizar uma busca de hiperparâmetros mais abrangente para determinar os valores ótimos.\n",
    "\n",
    "4 - Quais são as principais dificuldades encontradas para o modelo de criação? Alguma delas: \n",
    "\n",
    "- Dificuldade na pré-processamento dos dados: O conjunto de dados MNIST é relativamente limpo e bem estruturado, mas em problemas reais de classificação de dígitos manuscritos, a qualidade e a variação dos dados podem apresentar desafios adicionais.\n",
    "\n",
    "- Dificuldade em lidar com classes desbalanceadas: Se o conjunto de dados tiver classes desbalanceadas, ou seja, algumas classes têm muito mais instâncias do que outras, o modelo pode ter dificuldade em realizar previsões precisas para as classes minoritárias.\n",
    "\n",
    "- Dificuldade em ajustar os hiperparâmetros: A escolha adequada dos hiperparâmetros do modelo pode ser um desafio. Diferentes valores de hiperparâmetros podem levar a resultados significativamente diferentes.\n",
    "\n",
    "- Overfitting e Underfitting: Em alguns casos, o modelo pode se ajustar muito bem ou muito mal aos dados de treinamento. Isso pode ocorrer quando o modelo é muito ou pouco complexo em relação ao tamanho e à qualidade dos dados de treinamento disponíveis"
   ]
  },
  {
   "cell_type": "markdown",
   "id": "4f06d8db",
   "metadata": {},
   "source": [
    "# Exercicio 03\n"
   ]
  },
  {
   "cell_type": "markdown",
   "id": "cb298a8c",
   "metadata": {},
   "source": [
    "1- A diferença entre um parâmetro de modelo e um hiperparâmetro de algoritmo de aprendizado é a seguinte:\n",
    "\n",
    "- Parâmetro de modelo: São os valores internos do modelo que são ajustados durante o processo de treinamento. Por exemplo, no caso de um modelo de regressão linear, os coeficientes da equação linear são os parâmetros que são otimizados durante o treinamento.\n",
    "\n",
    "- Hiperparâmetro de algoritmo de aprendizado: São os valores que controlam o comportamento e a configuração do algoritmo de aprendizado, mas não são ajustados diretamente durante o treinamento do modelo. Esses hiperparâmetros são definidos antes do treinamento e afetam a performance e a capacidade de generalização do modelo. Exemplos de hiperparâmetros incluem o número de camadas em uma rede neural, a taxa de aprendizado em um algoritmo de otimização, entre outros.\n",
    "\n",
    "2 - Quatro dos principais desafios relacionados ao machine learning são:\n",
    "\n",
    "- Dados insuficientes ou de baixa qualidade: O desafio de obter dados suficientes e de boa qualidade para treinar um modelo é comum. A qualidade e a quantidade dos dados têm um impacto significativo no desempenho do modelo.\n",
    "\n",
    "- Overfitting e underfitting: O overfitting ocorre quando o modelo se ajusta muito bem aos dados de treinamento, mas não generaliza bem para novos dados. O underfitting, por outro lado, ocorre quando o modelo é muito simples e não consegue capturar padrões complexos nos dados. Encontrar um equilíbrio entre esses dois extremos é um desafio.\n",
    "\n",
    "- Seleção de recursos relevantes: A seleção de recursos relevantes é crucial para um bom desempenho do modelo. Identificar quais recursos são mais informativos e relevantes para o problema em questão pode ser desafiador, especialmente em conjuntos de dados com muitos recursos.\n",
    "\n",
    "- Interpretabilidade do modelo: Em muitos casos, é importante que o modelo seja interpretável, ou seja, que possamos entender e explicar as decisões tomadas pelo modelo. Modelos complexos, como redes neurais profundas, podem ser mais difíceis de interpretar do que modelos mais simples, como regressão linear.\n",
    "\n",
    "3 -Se o modelo tem um ótimo desempenho nos dados de treinamento, mas generaliza mal para novas instâncias, isso indica que ocorreu overfitting. Algumas soluções possíveis para lidar com o overfitting são:\n",
    "\n",
    "- Regularização: Adicionar termos de regularização à função de custo pode ajudar a evitar o overfitting, penalizando os pesos excessivamente grandes do modelo.\n",
    "\n",
    "- Aumentar o tamanho do conjunto de treinamento: Adquirir mais dados pode fornecer uma visão mais representativa do problema e reduzir o overfitting.\n",
    "\n",
    "- Simplificar o modelo: Reduzir a complexidade do modelo, diminuindo o número de parâmetros ou limitando a capacidade do modelo, pode ajudar a evitar o overfitting.\n",
    "\n",
    "4 -Um conjunto de testes é um conjunto de dados separado usado para avaliar o desempenho final do modelo. \n",
    "\n",
    "- É importante utilizar um conjunto de testes separado para verificar como o modelo generaliza para novos dados, ou seja, dados que não foram vistos durante o treinamento. O conjunto de testes fornece uma estimativa imparcial do desempenho do modelo e ajuda a avaliar sua capacidade de generalização.\n",
    "\n",
    "5 - O propósito de um conjunto de validação é auxiliar no ajuste de hiperparâmetros e na seleção do melhor modelo. \n",
    "\n",
    "- Durante o treinamento, um conjunto de validação é usado para avaliar o desempenho do modelo em dados não vistos e, assim, ajustar os hiperparâmetros do modelo. O conjunto de validação ajuda a evitar o ajuste excessivo aos dados de treinamento e a selecionar o modelo que melhor generaliza para dados não vistos.\n",
    "\n",
    "6 - Se você ajustar os hiperparâmetros usando o conjunto de teste, corre o risco de superestimar o desempenho do modelo. \n",
    "\n",
    "- Isso ocorre porque o modelo terá informações sobre os dados de teste durante o ajuste dos hiperparâmetros, o que pode levar a uma otimização excessiva para esse conjunto de dados específico. O resultado é que o modelo pode não generalizar bem para novos dados. Para evitar esse problema, é necessário separar um conjunto de validação para ajustar os hiperparâmetros e deixar o conjunto de teste reservado apenas para a avaliação final do modelo após o ajuste dos hiperparâmetros."
   ]
  },
  {
   "cell_type": "code",
   "execution_count": null,
   "id": "c0cebece",
   "metadata": {},
   "outputs": [],
   "source": []
  }
 ],
 "metadata": {
  "kernelspec": {
   "display_name": "Python 3 (ipykernel)",
   "language": "python",
   "name": "python3"
  },
  "language_info": {
   "codemirror_mode": {
    "name": "ipython",
    "version": 3
   },
   "file_extension": ".py",
   "mimetype": "text/x-python",
   "name": "python",
   "nbconvert_exporter": "python",
   "pygments_lexer": "ipython3",
   "version": "3.10.9"
  }
 },
 "nbformat": 4,
 "nbformat_minor": 5
}
