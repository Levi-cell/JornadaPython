{
 "cells": [
  {
   "cell_type": "markdown",
   "metadata": {},
   "source": [
    "# Módulo 3 - Programação orientada a objetos"
   ]
  },
  {
   "cell_type": "markdown",
   "metadata": {},
   "source": [
    "Neste módulo aprenderemos o paradigma de Programação Orientada a Objetos (POO) do Python.Ao final desse módulo, você estará apto a programar com de maneira mais avançada seguindo um paradigma muito utilizado nas mais diversas linguagens de programação da atualidade.\n",
    "\n",
    "Ao final deste módulo, a partir de uma aplicação real, você estará apto a entender:\n",
    "\n",
    "* Classes\n",
    "* Objetos\n",
    "* Métodos\n",
    "* Herança\n",
    "* Encapsulamento\n",
    "* Polimorfismo\n",
    "\n",
    "Vamos codar?"
   ]
  },
  {
   "cell_type": "markdown",
   "metadata": {},
   "source": [
    "## 1. Classes, objetos e métodos\n",
    "\n",
    "Como primeiro exemplo, vamos modelar uma classe Televisão com seus respectivos métodos e atributos de maneira simples"
   ]
  },
  {
   "cell_type": "code",
   "execution_count": 6,
   "metadata": {},
   "outputs": [],
   "source": [
    "# declarando uma classe\n",
    "class Televisão:\n",
    "    def __init__(self):\n",
    "        self.ligada=False\n",
    "        self.canal=2   "
   ]
  },
  {
   "cell_type": "code",
   "execution_count": 7,
   "metadata": {},
   "outputs": [],
   "source": [
    "# criamos um objeto tv que recebe a classe Televisão\n",
    "tv = Televisão()"
   ]
  },
  {
   "cell_type": "code",
   "execution_count": 8,
   "metadata": {},
   "outputs": [
    {
     "data": {
      "text/plain": [
       "False"
      ]
     },
     "execution_count": 8,
     "metadata": {},
     "output_type": "execute_result"
    }
   ],
   "source": [
    "# exibimos o valor do atributo ligada do objeto tv\n",
    "tv.ligada"
   ]
  },
  {
   "cell_type": "code",
   "execution_count": 9,
   "metadata": {},
   "outputs": [
    {
     "data": {
      "text/plain": [
       "2"
      ]
     },
     "execution_count": 9,
     "metadata": {},
     "output_type": "execute_result"
    }
   ],
   "source": [
    "# exibimos o valor do atributo ligada do objeto tv\n",
    "tv.canal"
   ]
  },
  {
   "cell_type": "code",
   "execution_count": 11,
   "metadata": {},
   "outputs": [
    {
     "ename": "AttributeError",
     "evalue": "'Televisão' object has no attribute 'sala'",
     "output_type": "error",
     "traceback": [
      "\u001b[1;31m---------------------------------------------------------------------------\u001b[0m",
      "\u001b[1;31mAttributeError\u001b[0m                            Traceback (most recent call last)",
      "\u001b[1;32m<ipython-input-11-6e9b0331c7c4>\u001b[0m in \u001b[0;36m<module>\u001b[1;34m()\u001b[0m\n\u001b[0;32m      1\u001b[0m \u001b[1;31m# não existe sala\u001b[0m\u001b[1;33m\u001b[0m\u001b[1;33m\u001b[0m\u001b[0m\n\u001b[1;32m----> 2\u001b[1;33m \u001b[0mtv\u001b[0m\u001b[1;33m.\u001b[0m\u001b[0msala\u001b[0m\u001b[1;33m\u001b[0m\u001b[0m\n\u001b[0m",
      "\u001b[1;31mAttributeError\u001b[0m: 'Televisão' object has no attribute 'sala'"
     ]
    }
   ],
   "source": [
    "# não existe sala\n",
    "tv.sala"
   ]
  },
  {
   "cell_type": "code",
   "execution_count": 6,
   "metadata": {
    "scrolled": true
   },
   "outputs": [],
   "source": [
    "# atribuímos novos métodos a classe Televisão\n",
    "class Televisão:\n",
    "    def __init__(self, ligada, canal):\n",
    "        self.ligada = ligada\n",
    "        self.canal = canal\n",
    "\n",
    "    def ligar(self):\n",
    "        print(\"A tv está ligada\")\n",
    "    def desligar(self):\n",
    "        print(\"A tv está desligada\")\n",
    "    def status_canal(self, canal):\n",
    "        print(\"O canal é\", canal)"
   ]
  },
  {
   "cell_type": "code",
   "execution_count": 12,
   "metadata": {},
   "outputs": [],
   "source": [
    "# Vamos criar instancias da classe\n",
    "#tv1 = Televisão('True', '2')\n",
    "#tv2 = Televisão('False', '5')\n",
    "#print(tv1.ligada)"
   ]
  },
  {
   "cell_type": "code",
   "execution_count": 18,
   "metadata": {},
   "outputs": [],
   "source": [
    "#tv1.ligar()\n",
    "#tv1.desligar()\n",
    "#tv1.status_canal(5)"
   ]
  },
  {
   "cell_type": "markdown",
   "metadata": {},
   "source": [
    "## 2. Herança"
   ]
  },
  {
   "cell_type": "code",
   "execution_count": 19,
   "metadata": {},
   "outputs": [
    {
     "name": "stdout",
     "output_type": "stream",
     "text": [
      "José Silva\n"
     ]
    }
   ],
   "source": [
    "# Declarando a classe Pai\n",
    "class Pessoa:\n",
    "  def __init__(self, nome, sobrenome):\n",
    "    self.nome = nome\n",
    "    self.sobrenome = sobrenome\n",
    "\n",
    "  def imprimenome(self):\n",
    "    print(self.nome, self.sobrenome)\n",
    "\n",
    "# Usamos a classe pessoa para criar um objeto x, e então executamos o método imprimenome()\n",
    "x = Pessoa(\"José\", \"Silva\")\n",
    "x.imprimenome()"
   ]
  },
  {
   "cell_type": "code",
   "execution_count": 20,
   "metadata": {},
   "outputs": [],
   "source": [
    "# Declarando a classe filha\n",
    "class Estudante(Pessoa):\n",
    "  pass"
   ]
  },
  {
   "cell_type": "code",
   "execution_count": 21,
   "metadata": {},
   "outputs": [
    {
     "name": "stdout",
     "output_type": "stream",
     "text": [
      "Tiago Silva\n"
     ]
    }
   ],
   "source": [
    "# Usamos a classe filha Estudante para criar um objeto y, e então executamos o método imprimenome()\n",
    "y = Estudante(\"Tiago\", \"Silva\")\n",
    "y.imprimenome()"
   ]
  },
  {
   "cell_type": "markdown",
   "metadata": {},
   "source": [
    "## 3. Encapsulamento"
   ]
  },
  {
   "cell_type": "code",
   "execution_count": 22,
   "metadata": {
    "scrolled": true
   },
   "outputs": [
    {
     "name": "stdout",
     "output_type": "stream",
     "text": [
      "1\n",
      "3\n"
     ]
    },
    {
     "ename": "AttributeError",
     "evalue": "'B' object has no attribute '__c'",
     "output_type": "error",
     "traceback": [
      "\u001b[1;31m---------------------------------------------------------------------------\u001b[0m",
      "\u001b[1;31mAttributeError\u001b[0m                            Traceback (most recent call last)",
      "\u001b[1;32m<ipython-input-22-00e16081b913>\u001b[0m in \u001b[0;36m<module>\u001b[1;34m()\u001b[0m\n\u001b[0;32m     15\u001b[0m \u001b[0mb\u001b[0m \u001b[1;33m=\u001b[0m \u001b[0mB\u001b[0m\u001b[1;33m(\u001b[0m\u001b[1;33m)\u001b[0m\u001b[1;33m\u001b[0m\u001b[0m\n\u001b[0;32m     16\u001b[0m \u001b[1;31m#print(b.__b) # Erro, pois __b é privado a classe A.\u001b[0m\u001b[1;33m\u001b[0m\u001b[1;33m\u001b[0m\u001b[0m\n\u001b[1;32m---> 17\u001b[1;33m \u001b[0mprint\u001b[0m\u001b[1;33m(\u001b[0m\u001b[0mb\u001b[0m\u001b[1;33m.\u001b[0m\u001b[0m__c\u001b[0m\u001b[1;33m)\u001b[0m\u001b[1;31m# Erro, __c é um atributo privado, somente chamado pela classe.\u001b[0m\u001b[1;33m\u001b[0m\u001b[0m\n\u001b[0m",
      "\u001b[1;31mAttributeError\u001b[0m: 'B' object has no attribute '__c'"
     ]
    }
   ],
   "source": [
    "class A:\n",
    "   a = 1 # atributo publico\n",
    "   __b = 2 # atributo privado a class A\n",
    "\n",
    "class B(A):\n",
    "   __c = 3 # atributo privado a B\n",
    "   \n",
    "   def __init__(self):\n",
    "     print(self.a)\n",
    "     print(self.__c)\n",
    "\n",
    "#a = A()\n",
    "#print(a.a) # imprime 1\n",
    "\n",
    "b = B()\n",
    "print(b.__b) # Erro, pois __b é privado a classe A.\n",
    "#print(b.__c)# Erro, __c é um atributo privado, somente chamado pela classe.\n"
   ]
  },
  {
   "attachments": {
    "uml.PNG": {
     "image/png": "[encoded data removed]"
    }
   },
   "cell_type": "markdown",
   "metadata": {},
   "source": [
    "## 4. Polimorfismo\n",
    "\n",
    "![uml.PNG](attachment:uml.PNG)"
   ]
  },
  {
   "cell_type": "code",
   "execution_count": 1,
   "metadata": {},
   "outputs": [],
   "source": [
    "# Criando a classe formaGeométrica\n",
    "class FormaGeometrica():\n",
    "    def calc_area(self):\n",
    "        pass"
   ]
  },
  {
   "cell_type": "code",
   "execution_count": 2,
   "metadata": {},
   "outputs": [],
   "source": [
    "# Criando a classe quadrado, círculo\n",
    "class Quadrado(FormaGeometrica):\n",
    "    def __init__(self,base):\n",
    "        self.base = base\n",
    "\n",
    "    def calc_area(self):\n",
    "        return self.base * self.base\n",
    "\n",
    "class Circulo(FormaGeometrica):\n",
    "    def __init__(self, raio):\n",
    "        self.raio = raio\n",
    "\n",
    "    def calc_area(self):\n",
    "        return self.raio * self.raio * 3.14"
   ]
  },
  {
   "cell_type": "code",
   "execution_count": 4,
   "metadata": {},
   "outputs": [
    {
     "name": "stdout",
     "output_type": "stream",
     "text": [
      "a area foi de 28.700000000000003\n"
     ]
    }
   ],
   "source": [
    "# Utilizando o polimorfismo\n",
    "\n",
    "quad1 = Quadrado(2)\n",
    "quad2 = Quadrado(3)\n",
    "cir1 = Circulo(1)\n",
    "cir2 = Circulo(2)\n",
    "\n",
    "formas_geometricas = [quad1, quad2 , cir1, cir2]\n",
    "\n",
    "soma=0\n",
    "for forma in formas_geometricas:\n",
    "    soma = soma + forma.calc_area()\n",
    "\n",
    "print(\"a area foi de {}\".format(soma))"
   ]
  },
  {
   "cell_type": "code",
   "execution_count": null,
   "metadata": {},
   "outputs": [],
   "source": []
  }
 ],
 "metadata": {
  "kernelspec": {
   "display_name": "Python 3",
   "language": "python",
   "name": "python3"
  },
  "language_info": {
   "codemirror_mode": {
    "name": "ipython",
    "version": 3
   },
   "file_extension": ".py",
   "mimetype": "text/x-python",
   "name": "python",
   "nbconvert_exporter": "python",
   "pygments_lexer": "ipython3",
   "version": "3.8.5"
  }
 },
 "nbformat": 4,
 "nbformat_minor": 4
}
