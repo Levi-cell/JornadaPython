{
  "nbformat": 4,
  "nbformat_minor": 0,
  "metadata": {
    "colab": {
      "provenance": []
    },
    "kernelspec": {
      "name": "python3",
      "display_name": "Python 3"
    },
    "language_info": {
      "name": "python"
    }
  },
  "cells": [
    {
      "cell_type": "code",
      "execution_count": null,
      "metadata": {
        "id": "fTkwQobFbMI3",
        "colab": {
          "base_uri": "https://localhost:8080/",
          "height": 270
        },
        "outputId": "a94bf226-82e0-42b4-e1d7-6d21df7c29b6"
      },
      "outputs": [
        {
          "output_type": "stream",
          "name": "stdout",
          "text": [
            "Informe o primeiro valor: kjjkh\n",
            "Obrigada por utilizar nosso sistema!\n"
          ]
        },
        {
          "output_type": "error",
          "ename": "ValueError",
          "evalue": "ignored",
          "traceback": [
            "\u001b[0;31m---------------------------------------------------------------------------\u001b[0m",
            "\u001b[0;31mValueError\u001b[0m                                Traceback (most recent call last)",
            "\u001b[0;32m<ipython-input-4-8d95eb141c68>\u001b[0m in \u001b[0;36m<module>\u001b[0;34m\u001b[0m\n\u001b[1;32m      1\u001b[0m \u001b[0;32mtry\u001b[0m\u001b[0;34m:\u001b[0m\u001b[0;34m\u001b[0m\u001b[0;34m\u001b[0m\u001b[0m\n\u001b[0;32m----> 2\u001b[0;31m   \u001b[0mx\u001b[0m\u001b[0;34m=\u001b[0m\u001b[0mfloat\u001b[0m\u001b[0;34m(\u001b[0m\u001b[0minput\u001b[0m\u001b[0;34m(\u001b[0m\u001b[0;34m'Informe o primeiro valor: '\u001b[0m\u001b[0;34m)\u001b[0m\u001b[0;34m)\u001b[0m\u001b[0;34m\u001b[0m\u001b[0;34m\u001b[0m\u001b[0m\n\u001b[0m\u001b[1;32m      3\u001b[0m   \u001b[0my\u001b[0m\u001b[0;34m=\u001b[0m\u001b[0mfloat\u001b[0m\u001b[0;34m(\u001b[0m\u001b[0minput\u001b[0m\u001b[0;34m(\u001b[0m\u001b[0;34m'Informe o segundo valor: '\u001b[0m\u001b[0;34m)\u001b[0m\u001b[0;34m)\u001b[0m\u001b[0;34m\u001b[0m\u001b[0;34m\u001b[0m\u001b[0m\n\u001b[1;32m      4\u001b[0m \u001b[0;34m\u001b[0m\u001b[0m\n\u001b[1;32m      5\u001b[0m   \u001b[0moperacao\u001b[0m\u001b[0;34m=\u001b[0m \u001b[0minput\u001b[0m\u001b[0;34m(\u001b[0m\u001b[0;34m'Digite: \\n + para somar \\n - para subtrair \\n * para multiplicar ou \\n / para dividir'\u001b[0m\u001b[0;34m)\u001b[0m\u001b[0;34m\u001b[0m\u001b[0;34m\u001b[0m\u001b[0m\n",
            "\u001b[0;31mValueError\u001b[0m: could not convert string to float: 'kjjkh'"
          ]
        }
      ],
      "source": [
        "try:\n",
        "  x=float(input('Informe o primeiro valor: '))\n",
        "  y=float(input('Informe o segundo valor: '))\n",
        "\n",
        "  operacao= input('Digite: \\n + para somar \\n - para subtrair \\n * para multiplicar ou \\n / para dividir') \n",
        "\n",
        "  if operacao =='+':\n",
        "    resultado = x + y\n",
        "\n",
        "  elif operacao =='-':\n",
        "    resultado = x - y\n",
        "\n",
        "  elif operacao =='*':\n",
        "    resultado = x * y\n",
        "\n",
        "  elif operacao =='/':\n",
        "    resultado = x / y\n",
        "\n",
        "  else:\n",
        "    print('Informe uma opração válida!')\n",
        "except ValueError:\n",
        "  print(\"Dados de entrada incorretos\")\n",
        "except ZeroDivisionError:\n",
        "  print(\"divisão por zero! Digite um divisor diferente de zero.\")\n",
        "else:\n",
        "  print(\"Resultado: \", resultado)\n",
        "finally:\n",
        "  print(\"Obrigada por utilizar nosso sistema!\")"
      ]
    }
  ]
}